{
 "cells": [
  {
   "cell_type": "code",
   "execution_count": 5,
   "id": "f188e99f",
   "metadata": {},
   "outputs": [
    {
     "data": {
      "text/html": [
       "<div>\n",
       "<style scoped>\n",
       "    .dataframe tbody tr th:only-of-type {\n",
       "        vertical-align: middle;\n",
       "    }\n",
       "\n",
       "    .dataframe tbody tr th {\n",
       "        vertical-align: top;\n",
       "    }\n",
       "\n",
       "    .dataframe thead th {\n",
       "        text-align: right;\n",
       "    }\n",
       "</style>\n",
       "<table border=\"1\" class=\"dataframe\">\n",
       "  <thead>\n",
       "    <tr style=\"text-align: right;\">\n",
       "      <th></th>\n",
       "      <th>InvoiceNo</th>\n",
       "      <th>StockCode</th>\n",
       "      <th>Description</th>\n",
       "      <th>Quantity</th>\n",
       "      <th>InvoiceDate</th>\n",
       "      <th>UnitPrice</th>\n",
       "      <th>CustomerID</th>\n",
       "      <th>Country</th>\n",
       "    </tr>\n",
       "  </thead>\n",
       "  <tbody>\n",
       "    <tr>\n",
       "      <th>0</th>\n",
       "      <td>579134</td>\n",
       "      <td>22383</td>\n",
       "      <td>LUNCH BAG SUKI DESIGN</td>\n",
       "      <td>20</td>\n",
       "      <td>11/28/2011 12:38</td>\n",
       "      <td>1.65</td>\n",
       "      <td>13115.0</td>\n",
       "      <td>United Kingdom</td>\n",
       "    </tr>\n",
       "    <tr>\n",
       "      <th>1</th>\n",
       "      <td>574835</td>\n",
       "      <td>23530</td>\n",
       "      <td>WALL ART ONLY ONE PERSON</td>\n",
       "      <td>6</td>\n",
       "      <td>11/7/2011 11:31</td>\n",
       "      <td>4.95</td>\n",
       "      <td>13139.0</td>\n",
       "      <td>United Kingdom</td>\n",
       "    </tr>\n",
       "    <tr>\n",
       "      <th>2</th>\n",
       "      <td>536876</td>\n",
       "      <td>15036</td>\n",
       "      <td>ASSORTED COLOURS SILK FAN</td>\n",
       "      <td>3</td>\n",
       "      <td>12/3/2010 11:36</td>\n",
       "      <td>1.28</td>\n",
       "      <td>NaN</td>\n",
       "      <td>United Kingdom</td>\n",
       "    </tr>\n",
       "    <tr>\n",
       "      <th>3</th>\n",
       "      <td>543458</td>\n",
       "      <td>21232</td>\n",
       "      <td>STRAWBERRY CERAMIC TRINKET BOX</td>\n",
       "      <td>4</td>\n",
       "      <td>2/8/2011 13:28</td>\n",
       "      <td>1.25</td>\n",
       "      <td>14587.0</td>\n",
       "      <td>United Kingdom</td>\n",
       "    </tr>\n",
       "    <tr>\n",
       "      <th>4</th>\n",
       "      <td>575215</td>\n",
       "      <td>48187</td>\n",
       "      <td>DOORMAT NEW ENGLAND</td>\n",
       "      <td>1</td>\n",
       "      <td>11/9/2011 11:04</td>\n",
       "      <td>8.25</td>\n",
       "      <td>18109.0</td>\n",
       "      <td>United Kingdom</td>\n",
       "    </tr>\n",
       "    <tr>\n",
       "      <th>...</th>\n",
       "      <td>...</td>\n",
       "      <td>...</td>\n",
       "      <td>...</td>\n",
       "      <td>...</td>\n",
       "      <td>...</td>\n",
       "      <td>...</td>\n",
       "      <td>...</td>\n",
       "      <td>...</td>\n",
       "    </tr>\n",
       "    <tr>\n",
       "      <th>24995</th>\n",
       "      <td>541223</td>\n",
       "      <td>22202</td>\n",
       "      <td>MILK PAN PINK POLKADOT</td>\n",
       "      <td>1</td>\n",
       "      <td>1/14/2011 14:39</td>\n",
       "      <td>3.75</td>\n",
       "      <td>17954.0</td>\n",
       "      <td>United Kingdom</td>\n",
       "    </tr>\n",
       "    <tr>\n",
       "      <th>24996</th>\n",
       "      <td>541565</td>\n",
       "      <td>22625</td>\n",
       "      <td>RED KITCHEN SCALES</td>\n",
       "      <td>1</td>\n",
       "      <td>1/19/2011 11:48</td>\n",
       "      <td>8.50</td>\n",
       "      <td>14527.0</td>\n",
       "      <td>United Kingdom</td>\n",
       "    </tr>\n",
       "    <tr>\n",
       "      <th>24997</th>\n",
       "      <td>566275</td>\n",
       "      <td>20659</td>\n",
       "      <td>ECONOMY LUGGAGE TAG</td>\n",
       "      <td>5</td>\n",
       "      <td>9/11/2011 13:58</td>\n",
       "      <td>1.25</td>\n",
       "      <td>16549.0</td>\n",
       "      <td>United Kingdom</td>\n",
       "    </tr>\n",
       "    <tr>\n",
       "      <th>24998</th>\n",
       "      <td>561670</td>\n",
       "      <td>21975</td>\n",
       "      <td>PACK OF 60 DINOSAUR CAKE CASES</td>\n",
       "      <td>24</td>\n",
       "      <td>7/28/2011 17:15</td>\n",
       "      <td>0.55</td>\n",
       "      <td>17373.0</td>\n",
       "      <td>United Kingdom</td>\n",
       "    </tr>\n",
       "    <tr>\n",
       "      <th>24999</th>\n",
       "      <td>550452</td>\n",
       "      <td>22548</td>\n",
       "      <td>HEADS AND TAILS SPORTING FUN</td>\n",
       "      <td>1</td>\n",
       "      <td>4/18/2011 12:56</td>\n",
       "      <td>1.25</td>\n",
       "      <td>14525.0</td>\n",
       "      <td>United Kingdom</td>\n",
       "    </tr>\n",
       "  </tbody>\n",
       "</table>\n",
       "<p>25000 rows × 8 columns</p>\n",
       "</div>"
      ],
      "text/plain": [
       "      InvoiceNo StockCode                     Description  Quantity  \\\n",
       "0        579134     22383          LUNCH BAG SUKI DESIGN         20   \n",
       "1        574835     23530       WALL ART ONLY ONE PERSON          6   \n",
       "2        536876     15036       ASSORTED COLOURS SILK FAN         3   \n",
       "3        543458     21232  STRAWBERRY CERAMIC TRINKET BOX         4   \n",
       "4        575215     48187             DOORMAT NEW ENGLAND         1   \n",
       "...         ...       ...                             ...       ...   \n",
       "24995    541223     22202          MILK PAN PINK POLKADOT         1   \n",
       "24996    541565     22625              RED KITCHEN SCALES         1   \n",
       "24997    566275     20659             ECONOMY LUGGAGE TAG         5   \n",
       "24998    561670     21975  PACK OF 60 DINOSAUR CAKE CASES        24   \n",
       "24999    550452     22548    HEADS AND TAILS SPORTING FUN         1   \n",
       "\n",
       "            InvoiceDate  UnitPrice  CustomerID         Country  \n",
       "0      11/28/2011 12:38       1.65     13115.0  United Kingdom  \n",
       "1       11/7/2011 11:31       4.95     13139.0  United Kingdom  \n",
       "2       12/3/2010 11:36       1.28         NaN  United Kingdom  \n",
       "3        2/8/2011 13:28       1.25     14587.0  United Kingdom  \n",
       "4       11/9/2011 11:04       8.25     18109.0  United Kingdom  \n",
       "...                 ...        ...         ...             ...  \n",
       "24995   1/14/2011 14:39       3.75     17954.0  United Kingdom  \n",
       "24996   1/19/2011 11:48       8.50     14527.0  United Kingdom  \n",
       "24997   9/11/2011 13:58       1.25     16549.0  United Kingdom  \n",
       "24998   7/28/2011 17:15       0.55     17373.0  United Kingdom  \n",
       "24999   4/18/2011 12:56       1.25     14525.0  United Kingdom  \n",
       "\n",
       "[25000 rows x 8 columns]"
      ]
     },
     "execution_count": 5,
     "metadata": {},
     "output_type": "execute_result"
    }
   ],
   "source": [
    "import pandas as pd\n",
    "data_location = '../data/online-retail-sample.csv'\n",
    "#data_location = 'https://raw.githubusercontent.com/elephantscale/datasets/master/retail-data/all/online-retail-sample.csv'\n",
    "\n",
    "df = pd.read_csv(data_location)\n",
    "df"
   ]
  },
  {
   "cell_type": "code",
   "execution_count": 6,
   "id": "50b45cdd-7637-41e0-a3a4-95ae7256fc01",
   "metadata": {},
   "outputs": [
    {
     "data": {
      "text/plain": [
       "InvoiceNo       object\n",
       "StockCode       object\n",
       "Description     object\n",
       "Quantity         int64\n",
       "InvoiceDate     object\n",
       "UnitPrice      float64\n",
       "CustomerID     float64\n",
       "Country         object\n",
       "dtype: object"
      ]
     },
     "execution_count": 6,
     "metadata": {},
     "output_type": "execute_result"
    }
   ],
   "source": [
    "# see data types\n",
    "# we see 'invoicedate' is object\n",
    "df.dtypes"
   ]
  },
  {
   "cell_type": "markdown",
   "id": "91a1ff46-fc87-40bf-a575-ee07d5bbc665",
   "metadata": {},
   "source": [
    "## Parse Dates"
   ]
  },
  {
   "cell_type": "code",
   "execution_count": 8,
   "id": "6bd3b510",
   "metadata": {},
   "outputs": [
    {
     "data": {
      "text/plain": [
       "InvoiceNo              object\n",
       "StockCode              object\n",
       "Description            object\n",
       "Quantity                int64\n",
       "InvoiceDate    datetime64[ns]\n",
       "UnitPrice             float64\n",
       "CustomerID            float64\n",
       "Country                object\n",
       "dtype: object"
      ]
     },
     "execution_count": 8,
     "metadata": {},
     "output_type": "execute_result"
    }
   ],
   "source": [
    "df['InvoiceDate'] = pd.to_datetime(df['InvoiceDate'])\n",
    "df.dtypes"
   ]
  },
  {
   "cell_type": "markdown",
   "id": "0b19e015-03ca-4c4d-a967-21a658d2a0d8",
   "metadata": {},
   "source": [
    "## Extract Date Attributes like Year, Month, Day"
   ]
  },
  {
   "cell_type": "code",
   "execution_count": 9,
   "id": "f7c9b21a",
   "metadata": {},
   "outputs": [
    {
     "data": {
      "text/plain": [
       "0        2011\n",
       "1        2011\n",
       "2        2010\n",
       "3        2011\n",
       "4        2011\n",
       "         ... \n",
       "24995    2011\n",
       "24996    2011\n",
       "24997    2011\n",
       "24998    2011\n",
       "24999    2011\n",
       "Name: InvoiceDate, Length: 25000, dtype: int64"
      ]
     },
     "execution_count": 9,
     "metadata": {},
     "output_type": "execute_result"
    }
   ],
   "source": [
    "df['InvoiceDate'].dt.year"
   ]
  },
  {
   "cell_type": "code",
   "execution_count": 11,
   "id": "4482ca5c-a739-490c-a850-c4516b63c0a0",
   "metadata": {},
   "outputs": [
    {
     "data": {
      "text/html": [
       "<div>\n",
       "<style scoped>\n",
       "    .dataframe tbody tr th:only-of-type {\n",
       "        vertical-align: middle;\n",
       "    }\n",
       "\n",
       "    .dataframe tbody tr th {\n",
       "        vertical-align: top;\n",
       "    }\n",
       "\n",
       "    .dataframe thead th {\n",
       "        text-align: right;\n",
       "    }\n",
       "</style>\n",
       "<table border=\"1\" class=\"dataframe\">\n",
       "  <thead>\n",
       "    <tr style=\"text-align: right;\">\n",
       "      <th></th>\n",
       "      <th>InvoiceNo</th>\n",
       "      <th>StockCode</th>\n",
       "      <th>Description</th>\n",
       "      <th>Quantity</th>\n",
       "      <th>InvoiceDate</th>\n",
       "      <th>UnitPrice</th>\n",
       "      <th>CustomerID</th>\n",
       "      <th>Country</th>\n",
       "      <th>InvoiceDate_Yr</th>\n",
       "    </tr>\n",
       "  </thead>\n",
       "  <tbody>\n",
       "    <tr>\n",
       "      <th>20535</th>\n",
       "      <td>554694</td>\n",
       "      <td>22728</td>\n",
       "      <td>ALARM CLOCK BAKELIKE PINK</td>\n",
       "      <td>2</td>\n",
       "      <td>2011-05-25 17:06:00</td>\n",
       "      <td>3.75</td>\n",
       "      <td>NaN</td>\n",
       "      <td>United Kingdom</td>\n",
       "      <td>2011</td>\n",
       "    </tr>\n",
       "    <tr>\n",
       "      <th>1857</th>\n",
       "      <td>537375</td>\n",
       "      <td>22537</td>\n",
       "      <td>MAGIC DRAWING SLATE DINOSAUR</td>\n",
       "      <td>3</td>\n",
       "      <td>2010-12-06 12:55:00</td>\n",
       "      <td>0.42</td>\n",
       "      <td>17019.0</td>\n",
       "      <td>United Kingdom</td>\n",
       "      <td>2010</td>\n",
       "    </tr>\n",
       "    <tr>\n",
       "      <th>24814</th>\n",
       "      <td>559887</td>\n",
       "      <td>22116</td>\n",
       "      <td>METAL SIGN HIS DINNER IS SERVED</td>\n",
       "      <td>3</td>\n",
       "      <td>2011-07-13 11:44:00</td>\n",
       "      <td>0.79</td>\n",
       "      <td>13263.0</td>\n",
       "      <td>United Kingdom</td>\n",
       "      <td>2011</td>\n",
       "    </tr>\n",
       "    <tr>\n",
       "      <th>7721</th>\n",
       "      <td>567912</td>\n",
       "      <td>22294</td>\n",
       "      <td>HEART FILIGREE DOVE  SMALL</td>\n",
       "      <td>3</td>\n",
       "      <td>2011-09-22 17:07:00</td>\n",
       "      <td>1.25</td>\n",
       "      <td>15555.0</td>\n",
       "      <td>United Kingdom</td>\n",
       "      <td>2011</td>\n",
       "    </tr>\n",
       "    <tr>\n",
       "      <th>5741</th>\n",
       "      <td>571129</td>\n",
       "      <td>23354</td>\n",
       "      <td>6 GIFT TAGS 50'S CHRISTMAS</td>\n",
       "      <td>24</td>\n",
       "      <td>2011-10-14 10:03:00</td>\n",
       "      <td>0.83</td>\n",
       "      <td>14156.0</td>\n",
       "      <td>EIRE</td>\n",
       "      <td>2011</td>\n",
       "    </tr>\n",
       "  </tbody>\n",
       "</table>\n",
       "</div>"
      ],
      "text/plain": [
       "      InvoiceNo StockCode                      Description  Quantity  \\\n",
       "20535    554694     22728        ALARM CLOCK BAKELIKE PINK         2   \n",
       "1857     537375     22537     MAGIC DRAWING SLATE DINOSAUR         3   \n",
       "24814    559887     22116  METAL SIGN HIS DINNER IS SERVED         3   \n",
       "7721     567912     22294       HEART FILIGREE DOVE  SMALL         3   \n",
       "5741     571129     23354      6 GIFT TAGS 50'S CHRISTMAS         24   \n",
       "\n",
       "              InvoiceDate  UnitPrice  CustomerID         Country  \\\n",
       "20535 2011-05-25 17:06:00       3.75         NaN  United Kingdom   \n",
       "1857  2010-12-06 12:55:00       0.42     17019.0  United Kingdom   \n",
       "24814 2011-07-13 11:44:00       0.79     13263.0  United Kingdom   \n",
       "7721  2011-09-22 17:07:00       1.25     15555.0  United Kingdom   \n",
       "5741  2011-10-14 10:03:00       0.83     14156.0            EIRE   \n",
       "\n",
       "       InvoiceDate_Yr  \n",
       "20535            2011  \n",
       "1857             2010  \n",
       "24814            2011  \n",
       "7721             2011  \n",
       "5741             2011  "
      ]
     },
     "execution_count": 11,
     "metadata": {},
     "output_type": "execute_result"
    }
   ],
   "source": [
    "# we can assign it to new column too\n",
    "df['InvoiceDate_Yr'] = df['InvoiceDate'].dt.year\n",
    "df.sample(5)"
   ]
  },
  {
   "cell_type": "code",
   "execution_count": 10,
   "id": "0ce2ffd7",
   "metadata": {},
   "outputs": [
    {
     "data": {
      "text/plain": [
       "0        11\n",
       "1        11\n",
       "2        12\n",
       "3         2\n",
       "4        11\n",
       "         ..\n",
       "24995     1\n",
       "24996     1\n",
       "24997     9\n",
       "24998     7\n",
       "24999     4\n",
       "Name: InvoiceDate, Length: 25000, dtype: int64"
      ]
     },
     "execution_count": 10,
     "metadata": {},
     "output_type": "execute_result"
    }
   ],
   "source": [
    "## Extract month\n",
    "df['InvoiceDate'].dt.month"
   ]
  },
  {
   "cell_type": "code",
   "execution_count": 12,
   "id": "bd958998-f175-4d3b-9e24-e7e3c80fac1d",
   "metadata": {},
   "outputs": [
    {
     "data": {
      "text/plain": [
       "0        28\n",
       "1         7\n",
       "2         3\n",
       "3         8\n",
       "4         9\n",
       "         ..\n",
       "24995    14\n",
       "24996    19\n",
       "24997    11\n",
       "24998    28\n",
       "24999    18\n",
       "Name: InvoiceDate, Length: 25000, dtype: int64"
      ]
     },
     "execution_count": 12,
     "metadata": {},
     "output_type": "execute_result"
    }
   ],
   "source": [
    "## Extract day\n",
    "df['InvoiceDate'].dt.day"
   ]
  }
 ],
 "metadata": {
  "kernelspec": {
   "display_name": "Python 3 (ipykernel)",
   "language": "python",
   "name": "python3"
  },
  "language_info": {
   "codemirror_mode": {
    "name": "ipython",
    "version": 3
   },
   "file_extension": ".py",
   "mimetype": "text/x-python",
   "name": "python",
   "nbconvert_exporter": "python",
   "pygments_lexer": "ipython3",
   "version": "3.9.16"
  },
  "vscode": {
   "interpreter": {
    "hash": "916dbcbb3f70747c44a77c7bcd40155683ae19c65e1c03b4aa3499c5328201f1"
   }
  }
 },
 "nbformat": 4,
 "nbformat_minor": 5
}
