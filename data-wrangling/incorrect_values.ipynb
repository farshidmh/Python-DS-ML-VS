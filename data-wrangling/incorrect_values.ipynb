{
 "cells": [
  {
   "cell_type": "code",
   "execution_count": 1,
   "id": "21a452a4",
   "metadata": {},
   "outputs": [
    {
     "data": {
      "text/html": [
       "<div>\n",
       "<style scoped>\n",
       "    .dataframe tbody tr th:only-of-type {\n",
       "        vertical-align: middle;\n",
       "    }\n",
       "\n",
       "    .dataframe tbody tr th {\n",
       "        vertical-align: top;\n",
       "    }\n",
       "\n",
       "    .dataframe thead th {\n",
       "        text-align: right;\n",
       "    }\n",
       "</style>\n",
       "<table border=\"1\" class=\"dataframe\">\n",
       "  <thead>\n",
       "    <tr style=\"text-align: right;\">\n",
       "      <th></th>\n",
       "      <th>ID</th>\n",
       "      <th>City</th>\n",
       "      <th>State</th>\n",
       "      <th>Zip</th>\n",
       "      <th>Title</th>\n",
       "      <th>RedactionRequested</th>\n",
       "    </tr>\n",
       "  </thead>\n",
       "  <tbody>\n",
       "    <tr>\n",
       "      <th>0</th>\n",
       "      <td>804</td>\n",
       "      <td>Glenview</td>\n",
       "      <td>IL</td>\n",
       "      <td>60025</td>\n",
       "      <td>Treasurer</td>\n",
       "      <td>False</td>\n",
       "    </tr>\n",
       "    <tr>\n",
       "      <th>1</th>\n",
       "      <td>9177</td>\n",
       "      <td>Harrisburg</td>\n",
       "      <td>IL</td>\n",
       "      <td>62946</td>\n",
       "      <td>Treasurer</td>\n",
       "      <td>False</td>\n",
       "    </tr>\n",
       "    <tr>\n",
       "      <th>2</th>\n",
       "      <td>53011</td>\n",
       "      <td>Chicago</td>\n",
       "      <td>IL</td>\n",
       "      <td>60606</td>\n",
       "      <td>Treasurer</td>\n",
       "      <td>False</td>\n",
       "    </tr>\n",
       "    <tr>\n",
       "      <th>3</th>\n",
       "      <td>9176</td>\n",
       "      <td>Harrisburg</td>\n",
       "      <td>IL</td>\n",
       "      <td>62946</td>\n",
       "      <td>Chairman</td>\n",
       "      <td>False</td>\n",
       "    </tr>\n",
       "    <tr>\n",
       "      <th>4</th>\n",
       "      <td>33020</td>\n",
       "      <td>Mechanicsburg</td>\n",
       "      <td>IL</td>\n",
       "      <td>62545</td>\n",
       "      <td>Chairman</td>\n",
       "      <td>False</td>\n",
       "    </tr>\n",
       "    <tr>\n",
       "      <th>...</th>\n",
       "      <td>...</td>\n",
       "      <td>...</td>\n",
       "      <td>...</td>\n",
       "      <td>...</td>\n",
       "      <td>...</td>\n",
       "      <td>...</td>\n",
       "    </tr>\n",
       "    <tr>\n",
       "      <th>55209</th>\n",
       "      <td>3559</td>\n",
       "      <td>Hillside</td>\n",
       "      <td>IL</td>\n",
       "      <td>60162</td>\n",
       "      <td>Chairman</td>\n",
       "      <td>False</td>\n",
       "    </tr>\n",
       "    <tr>\n",
       "      <th>55210</th>\n",
       "      <td>3558</td>\n",
       "      <td>Hillside</td>\n",
       "      <td>IL</td>\n",
       "      <td>60162</td>\n",
       "      <td>Treasurer</td>\n",
       "      <td>False</td>\n",
       "    </tr>\n",
       "    <tr>\n",
       "      <th>55211</th>\n",
       "      <td>23177</td>\n",
       "      <td>Harvard</td>\n",
       "      <td>IL</td>\n",
       "      <td>6033</td>\n",
       "      <td>Chairman</td>\n",
       "      <td>False</td>\n",
       "    </tr>\n",
       "    <tr>\n",
       "      <th>55212</th>\n",
       "      <td>23712</td>\n",
       "      <td>Chicago</td>\n",
       "      <td>IL</td>\n",
       "      <td>60637</td>\n",
       "      <td>Treasurer</td>\n",
       "      <td>False</td>\n",
       "    </tr>\n",
       "    <tr>\n",
       "      <th>55213</th>\n",
       "      <td>10509</td>\n",
       "      <td>Peru</td>\n",
       "      <td>IL</td>\n",
       "      <td>61354</td>\n",
       "      <td>Treasurer</td>\n",
       "      <td>False</td>\n",
       "    </tr>\n",
       "  </tbody>\n",
       "</table>\n",
       "<p>55214 rows × 6 columns</p>\n",
       "</div>"
      ],
      "text/plain": [
       "          ID           City State    Zip      Title  RedactionRequested\n",
       "0        804       Glenview    IL  60025  Treasurer               False\n",
       "1       9177     Harrisburg    IL  62946  Treasurer               False\n",
       "2      53011        Chicago    IL  60606  Treasurer               False\n",
       "3       9176     Harrisburg    IL  62946   Chairman               False\n",
       "4      33020  Mechanicsburg    IL  62545   Chairman               False\n",
       "...      ...            ...   ...    ...        ...                 ...\n",
       "55209   3559       Hillside    IL  60162   Chairman               False\n",
       "55210   3558       Hillside    IL  60162  Treasurer               False\n",
       "55211  23177        Harvard    IL   6033   Chairman               False\n",
       "55212  23712        Chicago    IL  60637  Treasurer               False\n",
       "55213  10509           Peru    IL  61354  Treasurer               False\n",
       "\n",
       "[55214 rows x 6 columns]"
      ]
     },
     "execution_count": 1,
     "metadata": {},
     "output_type": "execute_result"
    }
   ],
   "source": [
    "import pandas as pd\n",
    "\n",
    "data_location = '../data/officers.csv'\n",
    "# data_location = 'https://github.com/elephantscale/datasets/blob/master/misc/officers.csv?raw=true'\n",
    "\n",
    "df = pd.read_csv (data_location)\n",
    "df"
   ]
  },
  {
   "cell_type": "code",
   "execution_count": 2,
   "id": "630017a3",
   "metadata": {},
   "outputs": [
    {
     "data": {
      "text/plain": [
       "array(['IL', 'PA', 'DC', 'Il', nan, 'WI', 'CA', 'MO', 'NC', 'IA', 'MA',\n",
       "       'IN', 'MI', 'TN', 'NY', 'ng', 'TX', 'CO', 'NV', 'il', 'WA', '8I',\n",
       "       'In', 'iL', 'OH', 'SC', 'VA', 'NM', 'FL', 'LA', 'GA', 'II', 'NJ',\n",
       "       'MD', 'I', 'AR', 'KS', 'DE', '60', 'SD', 'MN', 'VT', 'OK', 'KY',\n",
       "       'CT', 'NH', 'AZ', 'OR', 'PR', 'RI'], dtype=object)"
      ]
     },
     "execution_count": 2,
     "metadata": {},
     "output_type": "execute_result"
    }
   ],
   "source": [
    "df['State'].unique()"
   ]
  },
  {
   "cell_type": "code",
   "execution_count": 3,
   "id": "220f32be-dbee-45d8-90fa-c5c705a5715d",
   "metadata": {},
   "outputs": [
    {
     "data": {
      "text/plain": [
       "IL    53642\n",
       "Il      665\n",
       "DC      254\n",
       "MO      106\n",
       "NY       48\n",
       "IA       41\n",
       "IN       41\n",
       "PA       33\n",
       "CA       32\n",
       "WI       31\n",
       "VA       22\n",
       "TX       21\n",
       "MA       18\n",
       "MI       16\n",
       "OH       16\n",
       "MN       12\n",
       "FL       11\n",
       "GA       11\n",
       "TN        8\n",
       "MD        6\n",
       "il        6\n",
       "NC        6\n",
       "CO        5\n",
       "OR        3\n",
       "WA        3\n",
       "NM        3\n",
       "KS        2\n",
       "VT        2\n",
       "CT        2\n",
       "NH        2\n",
       "AR        2\n",
       "SC        2\n",
       "NJ        2\n",
       "NV        2\n",
       "ng        2\n",
       "RI        2\n",
       "LA        2\n",
       "II        2\n",
       "DE        1\n",
       "60        1\n",
       "SD        1\n",
       "iL        1\n",
       "I         1\n",
       "OK        1\n",
       "KY        1\n",
       "8I        1\n",
       "AZ        1\n",
       "PR        1\n",
       "In        1\n",
       "Name: State, dtype: int64"
      ]
     },
     "execution_count": 3,
     "metadata": {},
     "output_type": "execute_result"
    }
   ],
   "source": [
    "df['State'].value_counts()"
   ]
  },
  {
   "cell_type": "code",
   "execution_count": 4,
   "id": "ba97bdfd",
   "metadata": {},
   "outputs": [
    {
     "name": "stdout",
     "output_type": "stream",
     "text": [
      "            City State\n",
      "43        Ottawa    Il\n",
      "44        Ottawa    Il\n",
      "493    Galesburg    Il\n",
      "613      Chicago    Il\n",
      "614      Chicago    Il\n",
      "...          ...   ...\n",
      "54915    Chicago    Il\n",
      "54916    Chicago    Il\n",
      "54918    Chicago    Il\n",
      "54919    Chicago    Il\n",
      "54921    Chicago    Il\n",
      "\n",
      "[665 rows x 2 columns]\n",
      "         City State\n",
      "7052  Wheaton    iL\n",
      "            City State\n",
      "43        Ottawa    Il\n",
      "44        Ottawa    Il\n",
      "493    Galesburg    Il\n",
      "613      Chicago    Il\n",
      "614      Chicago    Il\n",
      "...          ...   ...\n",
      "54915    Chicago    Il\n",
      "54916    Chicago    Il\n",
      "54918    Chicago    Il\n",
      "54919    Chicago    Il\n",
      "54921    Chicago    Il\n",
      "\n",
      "[665 rows x 2 columns]\n"
     ]
    }
   ],
   "source": [
    "for state in ['Il', 'iL', 'Il']:\n",
    "  print(df.loc[df['State'] == state, ['City', 'State']])"
   ]
  },
  {
   "cell_type": "code",
   "execution_count": 5,
   "id": "205c85c0",
   "metadata": {},
   "outputs": [
    {
     "data": {
      "text/plain": [
       "672"
      ]
     },
     "execution_count": 5,
     "metadata": {},
     "output_type": "execute_result"
    }
   ],
   "source": [
    "# flag / mask\n",
    "il_mask = df['State'].isin(['il', 'Il', 'iL', 'Il'])\n",
    "il_mask.sum()"
   ]
  },
  {
   "cell_type": "code",
   "execution_count": 6,
   "id": "8e7bbdfd",
   "metadata": {},
   "outputs": [],
   "source": [
    "df.loc[il_mask, 'State'] = 'IL'"
   ]
  },
  {
   "cell_type": "code",
   "execution_count": 7,
   "id": "30c9c24f",
   "metadata": {},
   "outputs": [
    {
     "data": {
      "text/plain": [
       "array(['IL', 'PA', 'DC', nan, 'WI', 'CA', 'MO', 'NC', 'IA', 'MA', 'IN',\n",
       "       'MI', 'TN', 'NY', 'ng', 'TX', 'CO', 'NV', 'WA', '8I', 'In', 'OH',\n",
       "       'SC', 'VA', 'NM', 'FL', 'LA', 'GA', 'II', 'NJ', 'MD', 'I', 'AR',\n",
       "       'KS', 'DE', '60', 'SD', 'MN', 'VT', 'OK', 'KY', 'CT', 'NH', 'AZ',\n",
       "       'OR', 'PR', 'RI'], dtype=object)"
      ]
     },
     "execution_count": 7,
     "metadata": {},
     "output_type": "execute_result"
    }
   ],
   "source": [
    "df['State'].unique()"
   ]
  },
  {
   "cell_type": "code",
   "execution_count": 8,
   "id": "1e03dacd",
   "metadata": {},
   "outputs": [
    {
     "data": {
      "text/plain": [
       "IL    54314\n",
       "DC      254\n",
       "MO      106\n",
       "NY       48\n",
       "IA       41\n",
       "IN       41\n",
       "PA       33\n",
       "CA       32\n",
       "WI       31\n",
       "VA       22\n",
       "TX       21\n",
       "MA       18\n",
       "MI       16\n",
       "OH       16\n",
       "MN       12\n",
       "GA       11\n",
       "FL       11\n",
       "TN        8\n",
       "NC        6\n",
       "MD        6\n",
       "CO        5\n",
       "OR        3\n",
       "NM        3\n",
       "WA        3\n",
       "SC        2\n",
       "KS        2\n",
       "ng        2\n",
       "NH        2\n",
       "CT        2\n",
       "VT        2\n",
       "NV        2\n",
       "RI        2\n",
       "AR        2\n",
       "NJ        2\n",
       "II        2\n",
       "LA        2\n",
       "DE        1\n",
       "In        1\n",
       "SD        1\n",
       "I         1\n",
       "OK        1\n",
       "KY        1\n",
       "8I        1\n",
       "AZ        1\n",
       "PR        1\n",
       "60        1\n",
       "Name: State, dtype: int64"
      ]
     },
     "execution_count": 8,
     "metadata": {},
     "output_type": "execute_result"
    }
   ],
   "source": [
    "df['State'].value_counts()"
   ]
  },
  {
   "cell_type": "markdown",
   "id": "f55e83ed-784e-4128-b6d4-cdcbdf4043c1",
   "metadata": {},
   "source": [
    "## We are not done yet.\n",
    "\n",
    "We still see states like **8I** and **60** !"
   ]
  },
  {
   "cell_type": "code",
   "execution_count": 9,
   "id": "d94df82b-e13c-4eec-8fec-34cc915c3c74",
   "metadata": {},
   "outputs": [
    {
     "data": {
      "text/html": [
       "<div>\n",
       "<style scoped>\n",
       "    .dataframe tbody tr th:only-of-type {\n",
       "        vertical-align: middle;\n",
       "    }\n",
       "\n",
       "    .dataframe tbody tr th {\n",
       "        vertical-align: top;\n",
       "    }\n",
       "\n",
       "    .dataframe thead th {\n",
       "        text-align: right;\n",
       "    }\n",
       "</style>\n",
       "<table border=\"1\" class=\"dataframe\">\n",
       "  <thead>\n",
       "    <tr style=\"text-align: right;\">\n",
       "      <th></th>\n",
       "      <th>ID</th>\n",
       "      <th>City</th>\n",
       "      <th>State</th>\n",
       "      <th>Zip</th>\n",
       "      <th>Title</th>\n",
       "      <th>RedactionRequested</th>\n",
       "    </tr>\n",
       "  </thead>\n",
       "  <tbody>\n",
       "    <tr>\n",
       "      <th>28060</th>\n",
       "      <td>1513</td>\n",
       "      <td>Chicago</td>\n",
       "      <td>60</td>\n",
       "      <td>644</td>\n",
       "      <td>Treasurer</td>\n",
       "      <td>False</td>\n",
       "    </tr>\n",
       "  </tbody>\n",
       "</table>\n",
       "</div>"
      ],
      "text/plain": [
       "         ID     City State  Zip      Title  RedactionRequested\n",
       "28060  1513  Chicago    60  644  Treasurer               False"
      ]
     },
     "execution_count": 9,
     "metadata": {},
     "output_type": "execute_result"
    }
   ],
   "source": [
    "df[df['State'] == '60']"
   ]
  },
  {
   "cell_type": "code",
   "execution_count": 10,
   "id": "d52d0f55-408c-4b7e-b657-6761cf194cd4",
   "metadata": {},
   "outputs": [
    {
     "data": {
      "text/html": [
       "<div>\n",
       "<style scoped>\n",
       "    .dataframe tbody tr th:only-of-type {\n",
       "        vertical-align: middle;\n",
       "    }\n",
       "\n",
       "    .dataframe tbody tr th {\n",
       "        vertical-align: top;\n",
       "    }\n",
       "\n",
       "    .dataframe thead th {\n",
       "        text-align: right;\n",
       "    }\n",
       "</style>\n",
       "<table border=\"1\" class=\"dataframe\">\n",
       "  <thead>\n",
       "    <tr style=\"text-align: right;\">\n",
       "      <th></th>\n",
       "      <th>ID</th>\n",
       "      <th>City</th>\n",
       "      <th>State</th>\n",
       "      <th>Zip</th>\n",
       "      <th>Title</th>\n",
       "      <th>RedactionRequested</th>\n",
       "    </tr>\n",
       "  </thead>\n",
       "  <tbody>\n",
       "    <tr>\n",
       "      <th>5513</th>\n",
       "      <td>7771</td>\n",
       "      <td>Springfield</td>\n",
       "      <td>8I</td>\n",
       "      <td>62704</td>\n",
       "      <td>Treasurer</td>\n",
       "      <td>False</td>\n",
       "    </tr>\n",
       "  </tbody>\n",
       "</table>\n",
       "</div>"
      ],
      "text/plain": [
       "        ID         City State    Zip      Title  RedactionRequested\n",
       "5513  7771  Springfield    8I  62704  Treasurer               False"
      ]
     },
     "execution_count": 10,
     "metadata": {},
     "output_type": "execute_result"
    }
   ],
   "source": [
    "df[df['State'] == '8I']"
   ]
  },
  {
   "cell_type": "code",
   "execution_count": 14,
   "id": "45eb496d-c2e3-4721-9345-bfcef80c3069",
   "metadata": {},
   "outputs": [],
   "source": [
    "# fix it\n",
    "df.loc[df['State'] == '60', 'State'] = 'IL'"
   ]
  },
  {
   "cell_type": "code",
   "execution_count": null,
   "id": "964d2738-8562-4e88-aad7-10d5d5eb0ac2",
   "metadata": {},
   "outputs": [],
   "source": [
    "# verify - should be no more records\n",
    "df[df['State'] == '60']"
   ]
  },
  {
   "cell_type": "code",
   "execution_count": 15,
   "id": "5acc03f7-bc60-40d2-b93e-265d2dcaf0d3",
   "metadata": {},
   "outputs": [
    {
     "data": {
      "text/plain": [
       "IL    54315\n",
       "DC      254\n",
       "MO      106\n",
       "NY       48\n",
       "IN       41\n",
       "IA       41\n",
       "PA       33\n",
       "CA       32\n",
       "WI       31\n",
       "VA       22\n",
       "TX       21\n",
       "MA       18\n",
       "MI       16\n",
       "OH       16\n",
       "MN       12\n",
       "GA       11\n",
       "FL       11\n",
       "TN        8\n",
       "MD        6\n",
       "NC        6\n",
       "CO        5\n",
       "OR        3\n",
       "WA        3\n",
       "NM        3\n",
       "KS        2\n",
       "VT        2\n",
       "CT        2\n",
       "NH        2\n",
       "AR        2\n",
       "II        2\n",
       "NJ        2\n",
       "LA        2\n",
       "SC        2\n",
       "NV        2\n",
       "ng        2\n",
       "RI        2\n",
       "I         1\n",
       "DE        1\n",
       "SD        1\n",
       "In        1\n",
       "OK        1\n",
       "KY        1\n",
       "8I        1\n",
       "AZ        1\n",
       "PR        1\n",
       "Name: State, dtype: int64"
      ]
     },
     "execution_count": 15,
     "metadata": {},
     "output_type": "execute_result"
    }
   ],
   "source": [
    "df['State'].value_counts()"
   ]
  }
 ],
 "metadata": {
  "kernelspec": {
   "display_name": "Python 3 (ipykernel)",
   "language": "python",
   "name": "python3"
  },
  "language_info": {
   "codemirror_mode": {
    "name": "ipython",
    "version": 3
   },
   "file_extension": ".py",
   "mimetype": "text/x-python",
   "name": "python",
   "nbconvert_exporter": "python",
   "pygments_lexer": "ipython3",
   "version": "3.9.16"
  }
 },
 "nbformat": 4,
 "nbformat_minor": 5
}
