{
 "cells": [
  {
   "cell_type": "markdown",
   "id": "3c9aeec5-1b8e-46b3-aced-d7a5f869f781",
   "metadata": {},
   "source": [
    "# Numpy\n",
    "\n",
    "NumPy and SciPy are the twin pillars of doing data science in Python.  Early on in Python's history, it became clear that Python's list data structures weren't ideal for doing heavy-duty number crunching on vectors and matrices. \n",
    "\n",
    "So, numpy was born to try to solve the problem, and introduce an array-type data structure into Python.\n",
    "\n",
    "References\n",
    "- [Python Data Science Handbook, Ch 02.1](https://jakevdp.github.io/PythonDataScienceHandbook/02.01-understanding-data-types.html)\n",
    "- [Python Data Science Handbook, Ch 02.2](https://jakevdp.github.io/PythonDataScienceHandbook/02.02-the-basics-of-numpy-arrays.html)"
   ]
  },
  {
   "cell_type": "markdown",
   "id": "fe6aac0d-40f7-456a-8483-a3dbb7201822",
   "metadata": {},
   "source": [
    "## 1 - Creating Numpy Arrays"
   ]
  },
  {
   "cell_type": "code",
   "execution_count": null,
   "id": "8af526d5-fad1-4914-8e1b-a10e498ac557",
   "metadata": {},
   "outputs": [],
   "source": [
    "# here is the import\n",
    "\n",
    "import numpy as np\n",
    "np.__version__"
   ]
  },
  {
   "cell_type": "markdown",
   "id": "7e7e2992-d80e-493d-95e1-e8958fea2822",
   "metadata": {},
   "source": [
    "---\n",
    "\n",
    "Notice that we have to pass in a list of numbers rather than \n",
    "\n",
    "```python\n",
    "np.array(1,2,3)  ## ERROR: won't work\n",
    "\n",
    "np.array([1,2,3]) ## Correct\n",
    "```"
   ]
  },
  {
   "cell_type": "code",
   "execution_count": null,
   "id": "1e97f4d9-76b4-48f8-8ff4-1bf001907f10",
   "metadata": {},
   "outputs": [],
   "source": [
    "# integer array:\n",
    "a1 = np.array([1, 4, 2, 5, 3])\n",
    "print (a1)\n",
    "print (type(a1))"
   ]
  },
  {
   "cell_type": "markdown",
   "id": "0adac1f0-84c8-4424-847f-00be9939112a",
   "metadata": {},
   "source": [
    "---"
   ]
  },
  {
   "cell_type": "code",
   "execution_count": null,
   "id": "f13909e8-8cb1-400b-8008-5664a31c6de6",
   "metadata": {},
   "outputs": [],
   "source": [
    "## Create a float array\n",
    "\n",
    "a2 = np.array([1, 2, 3, 4], dtype='float32')\n",
    "print (a2)\n",
    "print (type(a2))\n",
    "print (a2.dtype)"
   ]
  },
  {
   "cell_type": "markdown",
   "id": "64c679e3-5df0-47a4-a6fa-c9f6162d42a4",
   "metadata": {},
   "source": [
    "---\n",
    "\n",
    "Let's do a sequence of numbers with arange"
   ]
  },
  {
   "cell_type": "code",
   "execution_count": null,
   "id": "ef658fba-73c4-4c41-bb89-8960988d3c00",
   "metadata": {},
   "outputs": [],
   "source": [
    "a3 = np.arange(100)\n",
    "a3"
   ]
  },
  {
   "cell_type": "markdown",
   "id": "d8219d2d-29ac-4310-ae23-060cd1e5060e",
   "metadata": {},
   "source": [
    "---\n",
    "\n",
    "## 2 - Accessing Numpy Arrays\n",
    "\n",
    "zero based index"
   ]
  },
  {
   "cell_type": "code",
   "execution_count": null,
   "id": "b4f28d77-3708-41a4-b7a6-66d3ab4bf5f1",
   "metadata": {},
   "outputs": [],
   "source": [
    "a = np.arange(10)\n",
    "a"
   ]
  },
  {
   "cell_type": "code",
   "execution_count": null,
   "id": "9ac4da3e-7116-4457-81c9-341a29901634",
   "metadata": {},
   "outputs": [],
   "source": [
    "# first element\n",
    "a[0]"
   ]
  },
  {
   "cell_type": "code",
   "execution_count": null,
   "id": "2b744e0c-2438-4b10-b3a5-cb6158eb33dd",
   "metadata": {},
   "outputs": [],
   "source": [
    "# last elemnt\n",
    "a[9]"
   ]
  },
  {
   "cell_type": "code",
   "execution_count": null,
   "id": "1bd45a11-e2c1-4db6-862c-6250cca7362f",
   "metadata": {},
   "outputs": [],
   "source": [
    "# this is an error!\n",
    "a[10]"
   ]
  },
  {
   "cell_type": "code",
   "execution_count": null,
   "id": "217bb377-90d5-4cc2-8fd4-a086cd9e3297",
   "metadata": {},
   "outputs": [],
   "source": [
    "# Using negative indexes to walk backwards!\n",
    "# This is very cool, try it out\n",
    "\n",
    "a[-1]  # last element"
   ]
  },
  {
   "cell_type": "code",
   "execution_count": null,
   "id": "2271db56-cb73-4152-a671-457dccbe2761",
   "metadata": {},
   "outputs": [],
   "source": [
    "a [-2]  # second to last element"
   ]
  },
  {
   "cell_type": "markdown",
   "id": "24a2a5c0-a13f-486a-bd32-e56291e40b25",
   "metadata": {},
   "source": [
    "---"
   ]
  },
  {
   "cell_type": "markdown",
   "id": "8c187437-8f62-4103-bf53-d6903dc00402",
   "metadata": {},
   "source": [
    "## 3 - Manipulating numpy Arrays"
   ]
  },
  {
   "cell_type": "code",
   "execution_count": null,
   "id": "29b7236b-b9e6-4086-b544-4ebdea5c03d3",
   "metadata": {},
   "outputs": [],
   "source": [
    "# Try to multiply sequence by a scalar\n",
    "a = np.arange(10)\n",
    "a"
   ]
  },
  {
   "cell_type": "code",
   "execution_count": null,
   "id": "fbf9e9b2-62e0-4b97-8014-6a88d6b4f5a7",
   "metadata": {},
   "outputs": [],
   "source": [
    "a * np.pi"
   ]
  },
  {
   "cell_type": "markdown",
   "id": "d41f24d2-0289-4bda-b445-3318db4bddd3",
   "metadata": {},
   "source": [
    "---\n",
    "\n",
    "## 4 - Multidimensional Arrays\n",
    "\n",
    "We can make multi-dimensional arrays from single dimensions with shape."
   ]
  },
  {
   "cell_type": "code",
   "execution_count": null,
   "id": "e90e3033-296b-4420-8ebc-9493b5f2d9a9",
   "metadata": {},
   "outputs": [],
   "source": [
    "a = np.array([1,2,3,4,5,6])\n",
    "a"
   ]
  },
  {
   "cell_type": "code",
   "execution_count": null,
   "id": "6bb1fb30-7f20-4f56-b915-c1a9d932b073",
   "metadata": {},
   "outputs": [],
   "source": [
    "b = a.reshape(2,3)\n",
    "b"
   ]
  },
  {
   "cell_type": "code",
   "execution_count": null,
   "id": "ad9e7786-0b05-4211-87ac-b998493948b6",
   "metadata": {},
   "outputs": [],
   "source": [
    "c = a.reshape (3,2)\n",
    "c"
   ]
  },
  {
   "cell_type": "markdown",
   "id": "b5093414-a09b-4e8e-8c20-a977c5fff30d",
   "metadata": {},
   "source": [
    "---\n",
    "\n",
    "We can access elements of the 2-D array using array subscription operators.\n",
    "\n",
    "Remember we do **this**:\n",
    "\n",
    "```python\n",
    "b[1,2]\n",
    "```\n",
    "\n",
    "not **this**\n",
    "\n",
    "```python\n",
    "b[1][2] # BAD!\n",
    "```"
   ]
  },
  {
   "cell_type": "code",
   "execution_count": null,
   "id": "b0ec85a2-af92-4296-936d-29e4956d5b4d",
   "metadata": {},
   "outputs": [],
   "source": [
    "b[1,2]"
   ]
  },
  {
   "cell_type": "markdown",
   "id": "7372f619-ad2b-4898-acc2-29eb07e20bbf",
   "metadata": {},
   "source": [
    "---\n",
    "\n",
    "## 5 - Handy NP Arrays\n",
    "\n",
    "We can create \n",
    "- array of zeros\n",
    "- array of random numbers \n",
    "- ..etc"
   ]
  },
  {
   "cell_type": "code",
   "execution_count": null,
   "id": "a9648262-aa2e-4231-90cc-c846332000fb",
   "metadata": {},
   "outputs": [],
   "source": [
    "## Zero\n",
    "a = np.zeros(10)\n",
    "a"
   ]
  },
  {
   "cell_type": "code",
   "execution_count": null,
   "id": "512d1c66-fd7b-4599-87e6-374b96a5e03b",
   "metadata": {},
   "outputs": [],
   "source": [
    "## Ones\n",
    "b = np.ones(10, dtype=int)\n",
    "b"
   ]
  },
  {
   "cell_type": "code",
   "execution_count": null,
   "id": "9160b8da-a7b0-437b-ac61-3dc73b91536f",
   "metadata": {},
   "outputs": [],
   "source": [
    "b = np.ones (10, dtype=float)\n",
    "b"
   ]
  },
  {
   "cell_type": "code",
   "execution_count": null,
   "id": "ad4ba912-7af5-4660-839e-e9e73077499b",
   "metadata": {},
   "outputs": [],
   "source": [
    "# Random numbers between 0 to 1\n",
    "np.random.random(10)"
   ]
  },
  {
   "cell_type": "code",
   "execution_count": null,
   "id": "5154d559-07c0-4bbb-b04f-42e94b2f6aff",
   "metadata": {},
   "outputs": [],
   "source": [
    "# Create a  array of 10 random integers in the interval [0, 100)\n",
    "np.random.randint(0, 100, 10)"
   ]
  },
  {
   "cell_type": "code",
   "execution_count": null,
   "id": "6d9710a8-8b60-4429-bb90-c7df36520f52",
   "metadata": {},
   "outputs": [],
   "source": [
    "# Create a 3x3 array of random integers in the interval [0, 10)\n",
    "np.random.randint(0, 10, (3, 3))"
   ]
  },
  {
   "cell_type": "markdown",
   "id": "193d1845-2c7b-4841-a2fa-cac6e668237d",
   "metadata": {},
   "source": [
    "---\n",
    "\n",
    "## 6 - NP Datatypes\n",
    "\n",
    "![](../assets/images/np-data-types.png)\n",
    "\n",
    "---"
   ]
  },
  {
   "cell_type": "markdown",
   "id": "92047d5c-b783-44ce-ad17-9f64a162e43e",
   "metadata": {},
   "source": [
    "## 7 - Indexing and Slicing Arrays\n",
    "\n",
    "It is imporant to know how to **slice** arrays.  Understand the concept and it will be easier"
   ]
  },
  {
   "cell_type": "code",
   "execution_count": 8,
   "id": "c44abde7-782e-4ae7-94a3-77622d7e80a4",
   "metadata": {},
   "outputs": [
    {
     "data": {
      "text/plain": [
       "array([0, 1, 2, 3, 4, 5, 6, 7, 8, 9])"
      ]
     },
     "execution_count": 8,
     "metadata": {},
     "output_type": "execute_result"
    }
   ],
   "source": [
    "import numpy as np\n",
    "\n",
    "a = np.arange(0,10)\n",
    "a"
   ]
  },
  {
   "cell_type": "code",
   "execution_count": 9,
   "id": "778d6cab-0cc9-43b9-864f-b89f32976185",
   "metadata": {},
   "outputs": [
    {
     "data": {
      "text/plain": [
       "0"
      ]
     },
     "execution_count": 9,
     "metadata": {},
     "output_type": "execute_result"
    }
   ],
   "source": [
    "# Print first element\n",
    "a[0]"
   ]
  },
  {
   "cell_type": "code",
   "execution_count": 10,
   "id": "b7585a78-1649-4b32-bc8f-03be49f1241f",
   "metadata": {},
   "outputs": [
    {
     "data": {
      "text/plain": [
       "9"
      ]
     },
     "execution_count": 10,
     "metadata": {},
     "output_type": "execute_result"
    }
   ],
   "source": [
    "# print last element\n",
    "a[-1]"
   ]
  },
  {
   "cell_type": "code",
   "execution_count": 13,
   "id": "39e9903d-50ba-4aaa-a24a-6f0cb3c4fbc6",
   "metadata": {},
   "outputs": [
    {
     "data": {
      "text/plain": [
       "array([5, 6, 7, 8, 9])"
      ]
     },
     "execution_count": 13,
     "metadata": {},
     "output_type": "execute_result"
    }
   ],
   "source": [
    "# print every thing after element 5\n",
    "a[5:]"
   ]
  },
  {
   "cell_type": "code",
   "execution_count": 14,
   "id": "7928487b-a42d-40ef-9bf3-b8051083c1ee",
   "metadata": {},
   "outputs": [
    {
     "data": {
      "text/plain": [
       "array([0, 1, 2, 3, 4, 5, 6])"
      ]
     },
     "execution_count": 14,
     "metadata": {},
     "output_type": "execute_result"
    }
   ],
   "source": [
    "# print upto element 7\n",
    "a[:7]"
   ]
  },
  {
   "cell_type": "code",
   "execution_count": 15,
   "id": "2f90e743-5aa8-4b66-8af3-83e71912cdb0",
   "metadata": {},
   "outputs": [
    {
     "data": {
      "text/plain": [
       "array([3, 4, 5, 6, 7])"
      ]
     },
     "execution_count": 15,
     "metadata": {},
     "output_type": "execute_result"
    }
   ],
   "source": [
    "# print elements 3 - 8\n",
    "a[3:8]"
   ]
  },
  {
   "cell_type": "code",
   "execution_count": 16,
   "id": "6ec8fa78-9ea7-42af-a9fd-ac332b756d5a",
   "metadata": {},
   "outputs": [
    {
     "data": {
      "text/plain": [
       "array([3, 4, 5, 6, 7, 8])"
      ]
     },
     "execution_count": 16,
     "metadata": {},
     "output_type": "execute_result"
    }
   ],
   "source": [
    "# or \n",
    "a[3 : 8+1]\n",
    "# which is correct ? :-) "
   ]
  },
  {
   "cell_type": "code",
   "execution_count": 17,
   "id": "650097b0-d1a9-40f6-a019-cae48445d8b3",
   "metadata": {},
   "outputs": [
    {
     "data": {
      "text/plain": [
       "array([5, 6, 7, 8])"
      ]
     },
     "execution_count": 17,
     "metadata": {},
     "output_type": "execute_result"
    }
   ],
   "source": [
    "# print every thing from element 5 upto last element\n",
    "a[5:-1]"
   ]
  },
  {
   "cell_type": "code",
   "execution_count": 18,
   "id": "c09aa84a-2470-464b-a49d-4e92d933cd7d",
   "metadata": {},
   "outputs": [
    {
     "data": {
      "text/plain": [
       "array([5, 6, 7])"
      ]
     },
     "execution_count": 18,
     "metadata": {},
     "output_type": "execute_result"
    }
   ],
   "source": [
    "# print every thing from element 5 upto second last element\n",
    "a[5:-2]"
   ]
  },
  {
   "cell_type": "markdown",
   "id": "d0bde82d-348b-41b6-9934-0a3068243a3f",
   "metadata": {},
   "source": [
    "---\n",
    "\n",
    "## FUN: Benchmark NP arrays vs Python lists\n",
    "\n",
    "So let's do a quick benchmark comparing performance between np array vs python standard lists"
   ]
  },
  {
   "cell_type": "markdown",
   "id": "f933d77c-a7d8-43d5-b761-508360b73e02",
   "metadata": {},
   "source": [
    "### `%timeit`\n",
    "\n",
    "`timeit` is a handy utilility.  It will measure a code snippet's performance.  It will typically run it a million times and calculate averager time taken\n",
    "\n",
    "References:\n",
    "- [1](https://docs.python.org/3/library/timeit.html)\n",
    "\n",
    "### Small sized arrays\n",
    "\n",
    "Let's start with an array size of 10"
   ]
  },
  {
   "cell_type": "code",
   "execution_count": null,
   "id": "0bbf631a-3e09-4528-bcc5-725367217a89",
   "metadata": {},
   "outputs": [],
   "source": [
    "import random\n",
    "\n",
    "py_list = range(0,10)\n",
    "np_arr = np.arange (0,10)"
   ]
  },
  {
   "cell_type": "code",
   "execution_count": null,
   "id": "78a5b276-bdd2-4b40-9960-92cdac3ae0bb",
   "metadata": {},
   "outputs": [],
   "source": [
    "# python small list\n",
    "%timeit  random.choices(py_list, k=1)"
   ]
  },
  {
   "cell_type": "code",
   "execution_count": null,
   "id": "1dbd81cf-b398-4f29-b9c6-e6028628a176",
   "metadata": {},
   "outputs": [],
   "source": [
    "# np small array\n",
    "%timeit np.random.choice(np_arr, size=1)"
   ]
  },
  {
   "cell_type": "markdown",
   "id": "b495d6da-1334-42ad-acf2-5dd381fdf25d",
   "metadata": {},
   "source": [
    "### Large Sized Arrays"
   ]
  },
  {
   "cell_type": "code",
   "execution_count": null,
   "id": "cdaf8193-27b9-44fc-911c-b9c3e71d2191",
   "metadata": {},
   "outputs": [],
   "source": [
    "size = 1000000\n",
    "py_list = range(0,size)\n",
    "np_arr = np.arange (0,size)"
   ]
  },
  {
   "cell_type": "code",
   "execution_count": null,
   "id": "fc1b074f-1fc1-40d3-b424-7c4606e666d1",
   "metadata": {},
   "outputs": [],
   "source": [
    "# python large list\n",
    "%timeit  random.choices(py_list, k=1000)"
   ]
  },
  {
   "cell_type": "code",
   "execution_count": null,
   "id": "016ee5d0-d10a-4f3b-ad67-247693745bc7",
   "metadata": {},
   "outputs": [],
   "source": [
    "# np large array\n",
    "%timeit np.random.choice(np_arr, size=1000)"
   ]
  },
  {
   "cell_type": "markdown",
   "id": "a8f3ab30-087e-4ec9-9dbb-0569c30d3d88",
   "metadata": {},
   "source": [
    "### Sum Operation on large array"
   ]
  },
  {
   "cell_type": "code",
   "execution_count": null,
   "id": "43d6511b-39ea-466f-a515-d70f6e2cbe39",
   "metadata": {},
   "outputs": [],
   "source": [
    "size = 1000000\n",
    "py_list = range(0,size)\n",
    "np_arr = np.arange (0,size)"
   ]
  },
  {
   "cell_type": "code",
   "execution_count": null,
   "id": "a6a9cb2f-3927-4724-a4e0-df55a70794d8",
   "metadata": {},
   "outputs": [],
   "source": [
    "%timeit sum(py_list)"
   ]
  },
  {
   "cell_type": "code",
   "execution_count": null,
   "id": "b0c9578c-fdaa-4563-8a67-587771d59919",
   "metadata": {},
   "outputs": [],
   "source": [
    "%timeit np.sum(np_arr)"
   ]
  },
  {
   "cell_type": "markdown",
   "id": "86951407-daba-43f8-bed7-f48dd234e9d9",
   "metadata": {},
   "source": [
    "### Comparing Memory footprint\n",
    "\n",
    "This is an approximate measurement of memory footprint.  For accurate measurements we should use memory profilers like heapy."
   ]
  },
  {
   "cell_type": "code",
   "execution_count": null,
   "id": "55e30792-3a4b-4428-a4d0-e6726cd2a29d",
   "metadata": {},
   "outputs": [],
   "source": [
    "import sys\n",
    "\n",
    "size = 1000000\n",
    "py_list = range(0,size)\n",
    "np_arr = np.arange (0,size)\n",
    "\n",
    "print (\"python list of {:,} elements takes up {:,} bytes\".format(size, sys.getsizeof(py_list) * size))\n",
    "print (\"numpy array of {:,} elements takes up {:,} bytes\".format(size, np_arr.size * np_arr.itemsize))"
   ]
  },
  {
   "cell_type": "markdown",
   "id": "92d8d765-3579-4ca3-bbde-cef09818a722",
   "metadata": {},
   "source": [
    "### Discussion\n",
    "\n",
    "Discus your findings\n",
    "\n",
    "References\n",
    "- [Speed comparison. numpy vs python standard](https://stackoverflow.com/questions/52603487/speed-comparison-numpy-vs-python-standard)\n",
    "- [What are the advantages of NumPy over regular Python lists?](https://stackoverflow.com/questions/993984/what-are-the-advantages-of-numpy-over-regular-python-lists)\n",
    "- [Difference between list and NumPy array memory size](https://stackoverflow.com/questions/67549486/difference-between-list-and-numpy-array-memory-size)"
   ]
  },
  {
   "cell_type": "markdown",
   "id": "e1e1e56b-0681-489d-8347-75695a5ff513",
   "metadata": {},
   "source": [
    "---\n",
    "---"
   ]
  },
  {
   "cell_type": "code",
   "execution_count": null,
   "id": "766ed253-8dc9-447b-8559-cd6519081499",
   "metadata": {},
   "outputs": [],
   "source": []
  },
  {
   "cell_type": "markdown",
   "id": "74b60533-8f63-42ca-9020-26be187cfc43",
   "metadata": {},
   "source": [
    "## Bonus Exercises\n",
    "\n",
    "- [guided-machine-learning/python-data-analysis/np-1__numpy-intro.md](https://github.com/elephantscale/guided-machine-learning/blob/master/python-data-analysis/np-1__numpy-intro.md)"
   ]
  },
  {
   "cell_type": "code",
   "execution_count": null,
   "id": "79302588-336f-4402-bc7f-c0bf7c4b5b84",
   "metadata": {},
   "outputs": [],
   "source": []
  }
 ],
 "metadata": {
  "kernelspec": {
   "display_name": "Python 3 (ipykernel)",
   "language": "python",
   "name": "python3"
  },
  "language_info": {
   "codemirror_mode": {
    "name": "ipython",
    "version": 3
   },
   "file_extension": ".py",
   "mimetype": "text/x-python",
   "name": "python",
   "nbconvert_exporter": "python",
   "pygments_lexer": "ipython3",
   "version": "3.9.16"
  }
 },
 "nbformat": 4,
 "nbformat_minor": 5
}
