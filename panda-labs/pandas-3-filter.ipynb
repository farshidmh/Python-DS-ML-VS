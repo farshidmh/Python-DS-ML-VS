{
 "cells": [
  {
   "cell_type": "markdown",
   "id": "a46b9d9f-f44c-47e0-a5db-e33dfa78fc9c",
   "metadata": {},
   "source": [
    "# DF Operations"
   ]
  },
  {
   "cell_type": "markdown",
   "id": "b56781a8-4fd1-409c-8c99-6ff3a9b29c5d",
   "metadata": {},
   "source": [
    "## Filter\n",
    "\n",
    "This is handy to extract data.\n",
    "\n",
    "Think like SQL WHERE clause\n",
    "\n",
    "### Filter-1 : Start with some simple data"
   ]
  },
  {
   "cell_type": "code",
   "execution_count": 1,
   "id": "f5c79825-5492-4469-9df2-6976eeadc8cc",
   "metadata": {},
   "outputs": [
    {
     "data": {
      "text/html": [
       "<div>\n",
       "<style scoped>\n",
       "    .dataframe tbody tr th:only-of-type {\n",
       "        vertical-align: middle;\n",
       "    }\n",
       "\n",
       "    .dataframe tbody tr th {\n",
       "        vertical-align: top;\n",
       "    }\n",
       "\n",
       "    .dataframe thead th {\n",
       "        text-align: right;\n",
       "    }\n",
       "</style>\n",
       "<table border=\"1\" class=\"dataframe\">\n",
       "  <thead>\n",
       "    <tr style=\"text-align: right;\">\n",
       "      <th></th>\n",
       "      <th>City</th>\n",
       "      <th>Month</th>\n",
       "      <th>Rainfall</th>\n",
       "    </tr>\n",
       "  </thead>\n",
       "  <tbody>\n",
       "    <tr>\n",
       "      <th>0</th>\n",
       "      <td>San Francisco</td>\n",
       "      <td>Jan</td>\n",
       "      <td>10.0</td>\n",
       "    </tr>\n",
       "    <tr>\n",
       "      <th>1</th>\n",
       "      <td>Seattle</td>\n",
       "      <td>Jan</td>\n",
       "      <td>30.0</td>\n",
       "    </tr>\n",
       "    <tr>\n",
       "      <th>2</th>\n",
       "      <td>Los Angeles</td>\n",
       "      <td>Jan</td>\n",
       "      <td>2.0</td>\n",
       "    </tr>\n",
       "    <tr>\n",
       "      <th>3</th>\n",
       "      <td>Seattle</td>\n",
       "      <td>Feb</td>\n",
       "      <td>20.0</td>\n",
       "    </tr>\n",
       "    <tr>\n",
       "      <th>4</th>\n",
       "      <td>San Francisco</td>\n",
       "      <td>Feb</td>\n",
       "      <td>4.0</td>\n",
       "    </tr>\n",
       "    <tr>\n",
       "      <th>5</th>\n",
       "      <td>Los Angeles</td>\n",
       "      <td>Feb</td>\n",
       "      <td>0.0</td>\n",
       "    </tr>\n",
       "    <tr>\n",
       "      <th>6</th>\n",
       "      <td>Seattle</td>\n",
       "      <td>Mar</td>\n",
       "      <td>22.0</td>\n",
       "    </tr>\n",
       "    <tr>\n",
       "      <th>7</th>\n",
       "      <td>San Francisco</td>\n",
       "      <td>Mar</td>\n",
       "      <td>4.0</td>\n",
       "    </tr>\n",
       "    <tr>\n",
       "      <th>8</th>\n",
       "      <td>Los Angeles</td>\n",
       "      <td>Mar</td>\n",
       "      <td>NaN</td>\n",
       "    </tr>\n",
       "    <tr>\n",
       "      <th>9</th>\n",
       "      <td>Seattle</td>\n",
       "      <td>Apr</td>\n",
       "      <td>NaN</td>\n",
       "    </tr>\n",
       "    <tr>\n",
       "      <th>10</th>\n",
       "      <td>San Francisco</td>\n",
       "      <td>Apr</td>\n",
       "      <td>5.0</td>\n",
       "    </tr>\n",
       "    <tr>\n",
       "      <th>11</th>\n",
       "      <td>Los Angeles</td>\n",
       "      <td>Apr</td>\n",
       "      <td>4.0</td>\n",
       "    </tr>\n",
       "  </tbody>\n",
       "</table>\n",
       "</div>"
      ],
      "text/plain": [
       "             City Month  Rainfall\n",
       "0   San Francisco   Jan      10.0\n",
       "1         Seattle   Jan      30.0\n",
       "2     Los Angeles   Jan       2.0\n",
       "3         Seattle   Feb      20.0\n",
       "4   San Francisco   Feb       4.0\n",
       "5     Los Angeles   Feb       0.0\n",
       "6         Seattle   Mar      22.0\n",
       "7   San Francisco   Mar       4.0\n",
       "8     Los Angeles   Mar       NaN\n",
       "9         Seattle   Apr       NaN\n",
       "10  San Francisco   Apr       5.0\n",
       "11    Los Angeles   Apr       4.0"
      ]
     },
     "execution_count": 1,
     "metadata": {},
     "output_type": "execute_result"
    }
   ],
   "source": [
    "import pandas as pd\n",
    "import numpy as np\n",
    "\n",
    "data_location = '../data/rainfall.csv'\n",
    "# data_location = 'https://raw.githubusercontent.com/elephantscale/datasets/master/rainfall/rainfall.csv'\n",
    "\n",
    "\n",
    "rain = pd.read_csv (data_location)\n",
    "rain"
   ]
  },
  {
   "cell_type": "code",
   "execution_count": 2,
   "id": "72fbeed7-4ad8-4a33-b67b-327258a93430",
   "metadata": {},
   "outputs": [
    {
     "name": "stdout",
     "output_type": "stream",
     "text": [
      "<class 'pandas.core.frame.DataFrame'>\n",
      "RangeIndex: 12 entries, 0 to 11\n",
      "Data columns (total 3 columns):\n",
      " #   Column    Non-Null Count  Dtype  \n",
      "---  ------    --------------  -----  \n",
      " 0   City      12 non-null     object \n",
      " 1   Month     12 non-null     object \n",
      " 2   Rainfall  10 non-null     float64\n",
      "dtypes: float64(1), object(2)\n",
      "memory usage: 416.0+ bytes\n"
     ]
    }
   ],
   "source": [
    "# What type are the columns\n",
    "rain.info()"
   ]
  },
  {
   "cell_type": "code",
   "execution_count": 3,
   "id": "99b6d28a-0a15-4159-8247-a037e29d0304",
   "metadata": {},
   "outputs": [
    {
     "data": {
      "text/plain": [
       "0      True\n",
       "1      True\n",
       "2     False\n",
       "3      True\n",
       "4     False\n",
       "5     False\n",
       "6      True\n",
       "7     False\n",
       "8     False\n",
       "9     False\n",
       "10    False\n",
       "11    False\n",
       "Name: Rainfall, dtype: bool"
      ]
     },
     "execution_count": 3,
     "metadata": {},
     "output_type": "execute_result"
    }
   ],
   "source": [
    "## Only extract rows, when Rainfaill is >= 10\n",
    "\n",
    "## We are going to build this step by step\n",
    "\n",
    "## Step -1 : What is the return of this expression\n",
    "\n",
    "rain['Rainfall'] >= 10"
   ]
  },
  {
   "cell_type": "code",
   "execution_count": 12,
   "id": "f5499a1d-e164-4e7f-b503-58dc3889df04",
   "metadata": {},
   "outputs": [
    {
     "data": {
      "text/html": [
       "<div>\n",
       "<style scoped>\n",
       "    .dataframe tbody tr th:only-of-type {\n",
       "        vertical-align: middle;\n",
       "    }\n",
       "\n",
       "    .dataframe tbody tr th {\n",
       "        vertical-align: top;\n",
       "    }\n",
       "\n",
       "    .dataframe thead th {\n",
       "        text-align: right;\n",
       "    }\n",
       "</style>\n",
       "<table border=\"1\" class=\"dataframe\">\n",
       "  <thead>\n",
       "    <tr style=\"text-align: right;\">\n",
       "      <th></th>\n",
       "      <th>City</th>\n",
       "      <th>Month</th>\n",
       "      <th>Rainfall</th>\n",
       "    </tr>\n",
       "  </thead>\n",
       "  <tbody>\n",
       "    <tr>\n",
       "      <th>0</th>\n",
       "      <td>San Francisco</td>\n",
       "      <td>Jan</td>\n",
       "      <td>10.0</td>\n",
       "    </tr>\n",
       "    <tr>\n",
       "      <th>1</th>\n",
       "      <td>Seattle</td>\n",
       "      <td>Jan</td>\n",
       "      <td>30.0</td>\n",
       "    </tr>\n",
       "    <tr>\n",
       "      <th>3</th>\n",
       "      <td>Seattle</td>\n",
       "      <td>Feb</td>\n",
       "      <td>20.0</td>\n",
       "    </tr>\n",
       "    <tr>\n",
       "      <th>6</th>\n",
       "      <td>Seattle</td>\n",
       "      <td>Mar</td>\n",
       "      <td>22.0</td>\n",
       "    </tr>\n",
       "  </tbody>\n",
       "</table>\n",
       "</div>"
      ],
      "text/plain": [
       "            City Month  Rainfall\n",
       "0  San Francisco   Jan      10.0\n",
       "1        Seattle   Jan      30.0\n",
       "3        Seattle   Feb      20.0\n",
       "6        Seattle   Mar      22.0"
      ]
     },
     "execution_count": 12,
     "metadata": {},
     "output_type": "execute_result"
    }
   ],
   "source": [
    "## Step-2 plug in the condition to extract data\n",
    "\n",
    "## Both will work, try them out\n",
    "rain[rain['Rainfall'] >= 10 ]\n",
    "\n",
    "# rain.loc[rain['Rainfall'] >= 10]"
   ]
  },
  {
   "cell_type": "markdown",
   "id": "c39d7c6f-5e8a-49ab-af38-e1eda3153fb7",
   "metadata": {},
   "source": [
    "<span style=\"color:red\">\n",
    "    <h3> This is very imporant technique you should master! </h3>\n",
    "    </span>"
   ]
  },
  {
   "cell_type": "code",
   "execution_count": 5,
   "id": "cc398e46-bd94-48a2-bb97-48b882208f6f",
   "metadata": {},
   "outputs": [],
   "source": [
    "## TODO your turn\n",
    "## Only extract data for month of 'Mar'\n",
    "## Build the expression, step by step\n",
    "\n",
    "# first the condition\n",
    "rain ['Month'] == '???'"
   ]
  },
  {
   "cell_type": "code",
   "execution_count": null,
   "id": "b72b07fe-c165-4f42-be9b-8885fc0cd80b",
   "metadata": {},
   "outputs": [],
   "source": [
    "## TODO: Then plug the condition into indexing\n",
    "rain[rain['Month'] == '???']"
   ]
  },
  {
   "cell_type": "markdown",
   "id": "1feecd5c-9ef6-4a3e-a502-5e754583088f",
   "metadata": {},
   "source": [
    "## Combining Conditions\n",
    "\n",
    "Find data for month of January, that had more than 10 inches of rain"
   ]
  },
  {
   "cell_type": "code",
   "execution_count": null,
   "id": "a1bcd002-c243-4f0a-b80b-a72448834e81",
   "metadata": {},
   "outputs": [],
   "source": [
    "# first condition\n",
    "rain['Month'] == 'Jan'"
   ]
  },
  {
   "cell_type": "code",
   "execution_count": null,
   "id": "c81b2060-2029-4def-b037-0f776e41b2d6",
   "metadata": {},
   "outputs": [],
   "source": [
    "# second condition\n",
    "rain ['Rainfall'] >= 10"
   ]
  },
  {
   "cell_type": "code",
   "execution_count": null,
   "id": "130316d8-e6c7-4607-a1fe-d9860528eb05",
   "metadata": {},
   "outputs": [],
   "source": [
    "# combine with &\n",
    "(rain ['Rainfall'] >= 10) &  (rain['Month'] == 'Jan') "
   ]
  },
  {
   "cell_type": "code",
   "execution_count": 13,
   "id": "f521a881-807f-4685-bbd8-2e6da8d27817",
   "metadata": {},
   "outputs": [
    {
     "data": {
      "text/html": [
       "<div>\n",
       "<style scoped>\n",
       "    .dataframe tbody tr th:only-of-type {\n",
       "        vertical-align: middle;\n",
       "    }\n",
       "\n",
       "    .dataframe tbody tr th {\n",
       "        vertical-align: top;\n",
       "    }\n",
       "\n",
       "    .dataframe thead th {\n",
       "        text-align: right;\n",
       "    }\n",
       "</style>\n",
       "<table border=\"1\" class=\"dataframe\">\n",
       "  <thead>\n",
       "    <tr style=\"text-align: right;\">\n",
       "      <th></th>\n",
       "      <th>City</th>\n",
       "      <th>Month</th>\n",
       "      <th>Rainfall</th>\n",
       "    </tr>\n",
       "  </thead>\n",
       "  <tbody>\n",
       "    <tr>\n",
       "      <th>0</th>\n",
       "      <td>San Francisco</td>\n",
       "      <td>Jan</td>\n",
       "      <td>10.0</td>\n",
       "    </tr>\n",
       "    <tr>\n",
       "      <th>1</th>\n",
       "      <td>Seattle</td>\n",
       "      <td>Jan</td>\n",
       "      <td>30.0</td>\n",
       "    </tr>\n",
       "  </tbody>\n",
       "</table>\n",
       "</div>"
      ],
      "text/plain": [
       "            City Month  Rainfall\n",
       "0  San Francisco   Jan      10.0\n",
       "1        Seattle   Jan      30.0"
      ]
     },
     "execution_count": 13,
     "metadata": {},
     "output_type": "execute_result"
    }
   ],
   "source": [
    "## get data\n",
    "rain [  (rain ['Rainfall'] >= 10) &  (rain['Month'] == 'Jan')  ]"
   ]
  },
  {
   "cell_type": "code",
   "execution_count": null,
   "id": "1120e386-6c07-42a9-acea-dd76e25212d5",
   "metadata": {},
   "outputs": [],
   "source": [
    "## TODO: find all readings for Los Angeles?\n"
   ]
  },
  {
   "cell_type": "markdown",
   "id": "e8e985b2-f895-472b-b705-6e1eb4d09bff",
   "metadata": {},
   "source": [
    "### Filter-2\n",
    "\n",
    "**Load house sales data.  And count how many sales were over a million dollars?**"
   ]
  },
  {
   "cell_type": "code",
   "execution_count": 6,
   "id": "1c3277cf-82ca-466b-bea5-a8cacbb66d43",
   "metadata": {},
   "outputs": [
    {
     "data": {
      "text/html": [
       "<div>\n",
       "<style scoped>\n",
       "    .dataframe tbody tr th:only-of-type {\n",
       "        vertical-align: middle;\n",
       "    }\n",
       "\n",
       "    .dataframe tbody tr th {\n",
       "        vertical-align: top;\n",
       "    }\n",
       "\n",
       "    .dataframe thead th {\n",
       "        text-align: right;\n",
       "    }\n",
       "</style>\n",
       "<table border=\"1\" class=\"dataframe\">\n",
       "  <thead>\n",
       "    <tr style=\"text-align: right;\">\n",
       "      <th></th>\n",
       "      <th>ID</th>\n",
       "      <th>Date</th>\n",
       "      <th>SalePrice</th>\n",
       "      <th>PropertyID</th>\n",
       "      <th>PropertyType</th>\n",
       "      <th>Bedrooms</th>\n",
       "      <th>Bathrooms</th>\n",
       "      <th>SqFtTotLiving</th>\n",
       "      <th>SqFtLot</th>\n",
       "      <th>YrBuilt</th>\n",
       "      <th>ZipCode</th>\n",
       "    </tr>\n",
       "  </thead>\n",
       "  <tbody>\n",
       "    <tr>\n",
       "      <th>0</th>\n",
       "      <td>1</td>\n",
       "      <td>9/16/14</td>\n",
       "      <td>280000</td>\n",
       "      <td>1000102</td>\n",
       "      <td>Multiplex</td>\n",
       "      <td>6</td>\n",
       "      <td>3.00</td>\n",
       "      <td>2400</td>\n",
       "      <td>9373</td>\n",
       "      <td>1991</td>\n",
       "      <td>98002</td>\n",
       "    </tr>\n",
       "    <tr>\n",
       "      <th>1</th>\n",
       "      <td>2</td>\n",
       "      <td>6/16/06</td>\n",
       "      <td>1000000</td>\n",
       "      <td>1200013</td>\n",
       "      <td>Single Family</td>\n",
       "      <td>4</td>\n",
       "      <td>3.75</td>\n",
       "      <td>3764</td>\n",
       "      <td>20156</td>\n",
       "      <td>2005</td>\n",
       "      <td>98166</td>\n",
       "    </tr>\n",
       "    <tr>\n",
       "      <th>2</th>\n",
       "      <td>3</td>\n",
       "      <td>1/29/07</td>\n",
       "      <td>745000</td>\n",
       "      <td>1200019</td>\n",
       "      <td>Single Family</td>\n",
       "      <td>4</td>\n",
       "      <td>1.75</td>\n",
       "      <td>2060</td>\n",
       "      <td>26036</td>\n",
       "      <td>1947</td>\n",
       "      <td>98166</td>\n",
       "    </tr>\n",
       "    <tr>\n",
       "      <th>3</th>\n",
       "      <td>4</td>\n",
       "      <td>2/25/08</td>\n",
       "      <td>425000</td>\n",
       "      <td>2800016</td>\n",
       "      <td>Single Family</td>\n",
       "      <td>5</td>\n",
       "      <td>3.75</td>\n",
       "      <td>3200</td>\n",
       "      <td>8618</td>\n",
       "      <td>1966</td>\n",
       "      <td>98168</td>\n",
       "    </tr>\n",
       "    <tr>\n",
       "      <th>4</th>\n",
       "      <td>5</td>\n",
       "      <td>3/29/13</td>\n",
       "      <td>240000</td>\n",
       "      <td>2800024</td>\n",
       "      <td>Single Family</td>\n",
       "      <td>4</td>\n",
       "      <td>1.75</td>\n",
       "      <td>1720</td>\n",
       "      <td>8620</td>\n",
       "      <td>1948</td>\n",
       "      <td>98168</td>\n",
       "    </tr>\n",
       "    <tr>\n",
       "      <th>...</th>\n",
       "      <td>...</td>\n",
       "      <td>...</td>\n",
       "      <td>...</td>\n",
       "      <td>...</td>\n",
       "      <td>...</td>\n",
       "      <td>...</td>\n",
       "      <td>...</td>\n",
       "      <td>...</td>\n",
       "      <td>...</td>\n",
       "      <td>...</td>\n",
       "      <td>...</td>\n",
       "    </tr>\n",
       "    <tr>\n",
       "      <th>27058</th>\n",
       "      <td>27059</td>\n",
       "      <td>10/31/12</td>\n",
       "      <td>374000</td>\n",
       "      <td>9895000030</td>\n",
       "      <td>Townhouse</td>\n",
       "      <td>2</td>\n",
       "      <td>1.75</td>\n",
       "      <td>1410</td>\n",
       "      <td>1161</td>\n",
       "      <td>2011</td>\n",
       "      <td>-1</td>\n",
       "    </tr>\n",
       "    <tr>\n",
       "      <th>27059</th>\n",
       "      <td>27060</td>\n",
       "      <td>12/7/12</td>\n",
       "      <td>374000</td>\n",
       "      <td>9895000040</td>\n",
       "      <td>Townhouse</td>\n",
       "      <td>2</td>\n",
       "      <td>1.75</td>\n",
       "      <td>1410</td>\n",
       "      <td>1005</td>\n",
       "      <td>2011</td>\n",
       "      <td>-1</td>\n",
       "    </tr>\n",
       "    <tr>\n",
       "      <th>27060</th>\n",
       "      <td>27061</td>\n",
       "      <td>7/9/12</td>\n",
       "      <td>165000</td>\n",
       "      <td>9899200010</td>\n",
       "      <td>Single Family</td>\n",
       "      <td>4</td>\n",
       "      <td>1.00</td>\n",
       "      <td>1070</td>\n",
       "      <td>11170</td>\n",
       "      <td>1971</td>\n",
       "      <td>98055</td>\n",
       "    </tr>\n",
       "    <tr>\n",
       "      <th>27061</th>\n",
       "      <td>27062</td>\n",
       "      <td>5/26/06</td>\n",
       "      <td>315000</td>\n",
       "      <td>9900000355</td>\n",
       "      <td>Single Family</td>\n",
       "      <td>3</td>\n",
       "      <td>2.00</td>\n",
       "      <td>1345</td>\n",
       "      <td>6223</td>\n",
       "      <td>1939</td>\n",
       "      <td>98166</td>\n",
       "    </tr>\n",
       "    <tr>\n",
       "      <th>27062</th>\n",
       "      <td>27063</td>\n",
       "      <td>1/9/07</td>\n",
       "      <td>465000</td>\n",
       "      <td>9906000035</td>\n",
       "      <td>Single Family</td>\n",
       "      <td>3</td>\n",
       "      <td>1.50</td>\n",
       "      <td>790</td>\n",
       "      <td>4400</td>\n",
       "      <td>1928</td>\n",
       "      <td>98103</td>\n",
       "    </tr>\n",
       "  </tbody>\n",
       "</table>\n",
       "<p>27063 rows × 11 columns</p>\n",
       "</div>"
      ],
      "text/plain": [
       "          ID      Date  SalePrice  PropertyID   PropertyType  Bedrooms  \\\n",
       "0          1   9/16/14     280000     1000102      Multiplex         6   \n",
       "1          2   6/16/06    1000000     1200013  Single Family         4   \n",
       "2          3   1/29/07     745000     1200019  Single Family         4   \n",
       "3          4   2/25/08     425000     2800016  Single Family         5   \n",
       "4          5   3/29/13     240000     2800024  Single Family         4   \n",
       "...      ...       ...        ...         ...            ...       ...   \n",
       "27058  27059  10/31/12     374000  9895000030      Townhouse         2   \n",
       "27059  27060   12/7/12     374000  9895000040      Townhouse         2   \n",
       "27060  27061    7/9/12     165000  9899200010  Single Family         4   \n",
       "27061  27062   5/26/06     315000  9900000355  Single Family         3   \n",
       "27062  27063    1/9/07     465000  9906000035  Single Family         3   \n",
       "\n",
       "       Bathrooms  SqFtTotLiving  SqFtLot  YrBuilt  ZipCode  \n",
       "0           3.00           2400     9373     1991    98002  \n",
       "1           3.75           3764    20156     2005    98166  \n",
       "2           1.75           2060    26036     1947    98166  \n",
       "3           3.75           3200     8618     1966    98168  \n",
       "4           1.75           1720     8620     1948    98168  \n",
       "...          ...            ...      ...      ...      ...  \n",
       "27058       1.75           1410     1161     2011       -1  \n",
       "27059       1.75           1410     1005     2011       -1  \n",
       "27060       1.00           1070    11170     1971    98055  \n",
       "27061       2.00           1345     6223     1939    98166  \n",
       "27062       1.50            790     4400     1928    98103  \n",
       "\n",
       "[27063 rows x 11 columns]"
      ]
     },
     "execution_count": 6,
     "metadata": {},
     "output_type": "execute_result"
    }
   ],
   "source": [
    "data_location = '../data/house-sales-simplified.csv'\n",
    "#data_location = 'https://raw.githubusercontent.com/elephantscale/python-data-analytics/main/data/house-sales-simplified.csv'\n",
    "# data_location = 'https://raw.githubusercontent.com/elephantscale/python-data-analytics/main/data/house-sales-simplified.csv'\n",
    "\n",
    "house_sales = pd.read_csv (data_location)\n",
    "house_sales"
   ]
  },
  {
   "cell_type": "code",
   "execution_count": null,
   "id": "427c160c-ab6e-42a4-b2e0-a606cca5e67c",
   "metadata": {},
   "outputs": [],
   "source": [
    "## TODO: fill the price for million dollars\n",
    "## hint: 1000000\n",
    "house_sales['SalePrice'] > ????"
   ]
  },
  {
   "cell_type": "code",
   "execution_count": null,
   "id": "5332e933-6671-440f-95fe-d83a4730a4ba",
   "metadata": {},
   "outputs": [],
   "source": [
    "# We want the number of sales over a million dollars\n",
    "\n",
    "## why does this code work? :-) \n",
    "sum(house_sales['SalePrice'] > ????)"
   ]
  },
  {
   "cell_type": "code",
   "execution_count": null,
   "id": "e96545e8-28cf-4b96-b100-c30e3f22a8e2",
   "metadata": {},
   "outputs": [],
   "source": [
    "# TODO: to see the records over a million dollars\n",
    "## Paste the expression here!\n",
    "house_sales [????]"
   ]
  },
  {
   "cell_type": "markdown",
   "id": "c055a4e3-5d83-4164-9a0e-ad7cb7c04e96",
   "metadata": {},
   "source": [
    "### Find out how many homes have over 10 Bedrooms!  (what!!!)"
   ]
  },
  {
   "cell_type": "code",
   "execution_count": 10,
   "id": "8584f7f6-618c-4a38-ac39-e7f2a266e0d4",
   "metadata": {},
   "outputs": [],
   "source": [
    "## TODO: your turn\n",
    "# code here"
   ]
  },
  {
   "cell_type": "code",
   "execution_count": null,
   "id": "a0483d45-4c88-4978-83a7-a8fc1a93112f",
   "metadata": {},
   "outputs": [],
   "source": [
    "## Step 1 - extrat column\n",
    "house_sales['Bedrooms']"
   ]
  },
  {
   "cell_type": "code",
   "execution_count": null,
   "id": "e91edeca-fef2-4f04-8573-d968684e864f",
   "metadata": {},
   "outputs": [],
   "source": [
    "## Step-2 set the condition\n",
    "house_sales['Bedrooms'] >= ???"
   ]
  },
  {
   "cell_type": "code",
   "execution_count": null,
   "id": "fcb3c6e2-345c-4ee9-9e87-54150d96c3cb",
   "metadata": {},
   "outputs": [],
   "source": [
    "## Step 3 filter\n",
    "\n",
    "house_sales [ paste_your_condition_here ]"
   ]
  },
  {
   "cell_type": "markdown",
   "id": "01c4ab28-3c15-4aeb-8577-70ebdc514342",
   "metadata": {},
   "source": [
    "## What about combined bedrooms + bathrooms >= 10 "
   ]
  },
  {
   "cell_type": "code",
   "execution_count": null,
   "id": "579abc9a-d975-46b5-9092-bfad3c4c9e6e",
   "metadata": {},
   "outputs": [],
   "source": [
    "# Step 1 - extract columns\n",
    "house_sales['Bedrooms']"
   ]
  },
  {
   "cell_type": "code",
   "execution_count": null,
   "id": "7ab58290-aeff-478d-91c8-dacec903f686",
   "metadata": {},
   "outputs": [],
   "source": [
    "house_sales['Bathrooms']"
   ]
  },
  {
   "cell_type": "code",
   "execution_count": null,
   "id": "0f469303-1091-4fe9-baab-314e4fb30015",
   "metadata": {},
   "outputs": [],
   "source": [
    "# Step 2 - add them up\n",
    "house_sales['Bedrooms'] + house_sales['Bathrooms']"
   ]
  },
  {
   "cell_type": "code",
   "execution_count": null,
   "id": "af8761dd-8bad-458a-a439-e6d0053b7029",
   "metadata": {},
   "outputs": [],
   "source": [
    "## step 3 - condition\n",
    "\n",
    "house_sales['Bedrooms'] + house_sales['Bathrooms'] >= ???"
   ]
  },
  {
   "cell_type": "code",
   "execution_count": null,
   "id": "c48938e6-62f1-4895-81aa-c05402ef12ea",
   "metadata": {},
   "outputs": [],
   "source": [
    "## step 4 extract data\n",
    "\n",
    "house_sales [  paste_the_above_expression_here  ]"
   ]
  },
  {
   "cell_type": "markdown",
   "id": "bb3075ff-2d0d-406c-9f18-9c80bc97e379",
   "metadata": {},
   "source": [
    "## Find Bedrooms > 10  and Bathrooms > 5"
   ]
  },
  {
   "cell_type": "code",
   "execution_count": null,
   "id": "de4174cc-7240-4e0a-935e-fb88d23a5bcd",
   "metadata": {},
   "outputs": [],
   "source": [
    "# Step 1 - condition 1\n",
    "\n",
    "house_sales['Bedrooms'] > ???"
   ]
  },
  {
   "cell_type": "code",
   "execution_count": null,
   "id": "8261f533-8db0-4566-a7af-bbf2987aeba6",
   "metadata": {},
   "outputs": [],
   "source": [
    "## Step 2 - condition 2\n",
    "\n",
    "house_sales['Bathrooms'] > ???"
   ]
  },
  {
   "cell_type": "code",
   "execution_count": null,
   "id": "13d385ad-d02d-4151-91f1-64eb48ed068d",
   "metadata": {},
   "outputs": [],
   "source": [
    "## Step 3 - combine two conditions\n",
    "## Notice &\n",
    "\n",
    "( house_sales['Bedrooms'] > ??? ) &   ( house_sales['Bathrooms'] > ??? )"
   ]
  },
  {
   "cell_type": "code",
   "execution_count": null,
   "id": "42d6b31b-3f25-49ea-8434-655b0a855c0d",
   "metadata": {},
   "outputs": [],
   "source": [
    "## Step 4 - extract data\n",
    "\n",
    "house_sales [  paste_the_expression_here ]"
   ]
  }
 ],
 "metadata": {
  "kernelspec": {
   "display_name": "Python 3 (ipykernel)",
   "language": "python",
   "name": "python3"
  },
  "language_info": {
   "codemirror_mode": {
    "name": "ipython",
    "version": 3
   },
   "file_extension": ".py",
   "mimetype": "text/x-python",
   "name": "python",
   "nbconvert_exporter": "python",
   "pygments_lexer": "ipython3",
   "version": "3.9.16"
  }
 },
 "nbformat": 4,
 "nbformat_minor": 5
}
