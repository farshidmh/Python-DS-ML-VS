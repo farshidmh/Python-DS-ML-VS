{
  "nbformat": 4,
  "nbformat_minor": 0,
  "metadata": {
    "colab": {
      "provenance": []
    },
    "kernelspec": {
      "name": "python3",
      "display_name": "Python 3"
    },
    "language_info": {
      "name": "python"
    }
  },
  "cells": [
    {
      "cell_type": "code",
      "execution_count": 44,
      "metadata": {
        "id": "HjyfD6QpQ4J2"
      },
      "outputs": [],
      "source": [
        "import pandas as pd\n",
        "from sklearn.model_selection import train_test_split\n",
        "from sklearn.metrics import accuracy_score\n",
        "from sklearn.tree import DecisionTreeClassifier"
      ]
    },
    {
      "cell_type": "code",
      "source": [
        "df_music = pd.read_csv('music.csv')\n",
        "df_music.sort_values( by='age', inplace=True  )"
      ],
      "metadata": {
        "id": "Ts94GTwURRnN"
      },
      "execution_count": null,
      "outputs": []
    },
    {
      "cell_type": "code",
      "source": [
        "df_music  = pd.get_dummies( df_music, columns=['genre','gender']    )"
      ],
      "metadata": {
        "id": "XxFiyAnVgUNn"
      },
      "execution_count": 53,
      "outputs": []
    },
    {
      "cell_type": "code",
      "source": [
        "X = df_music.drop( columns=['genre_Acoustic','genre_Classical','genre_Dance','genre_HipHop','genre_Jazz']  )\n",
        "y = df_music[['genre_Acoustic','genre_Classical','genre_Dance','genre_HipHop','genre_Jazz']]"
      ],
      "metadata": {
        "id": "RO9Kez8Og6Ef"
      },
      "execution_count": 56,
      "outputs": []
    },
    {
      "cell_type": "code",
      "source": [
        "model = DecisionTreeClassifier()\n",
        "model.fit( X,y )"
      ],
      "metadata": {
        "id": "W77NvkfahR6p"
      },
      "execution_count": null,
      "outputs": []
    },
    {
      "cell_type": "code",
      "source": [
        "new_data = pd.DataFrame( [  [21,'Male'],[23,'Female'] ], columns=['age','gender']  )\n",
        "new_data = pd.get_dummies(new_data, columns=['gender'])"
      ],
      "metadata": {
        "id": "-7hguXsChdwU"
      },
      "execution_count": 62,
      "outputs": []
    },
    {
      "cell_type": "code",
      "source": [
        "pred = model.predict(new_data)"
      ],
      "metadata": {
        "id": "wd557lyZh2Sq"
      },
      "execution_count": 71,
      "outputs": []
    },
    {
      "cell_type": "code",
      "source": [
        "g_col = ['genre_Acoustic','genre_Classical','genre_Dance','genre_HipHop','genre_Jazz']\n",
        "pred_genre = pd.DataFrame ( pred, columns=g_col ).idxmax( axis=1 ).str.replace('genre_','')\n",
        "pred_genre"
      ],
      "metadata": {
        "colab": {
          "base_uri": "https://localhost:8080/"
        },
        "id": "2erIU2ZjiNsF",
        "outputId": "8cb0c28d-04a3-47ac-8a76-008a9d8d10d4"
      },
      "execution_count": 72,
      "outputs": [
        {
          "output_type": "execute_result",
          "data": {
            "text/plain": [
              "0    HipHop\n",
              "1     Dance\n",
              "dtype: object"
            ]
          },
          "metadata": {},
          "execution_count": 72
        }
      ]
    }
  ]
}