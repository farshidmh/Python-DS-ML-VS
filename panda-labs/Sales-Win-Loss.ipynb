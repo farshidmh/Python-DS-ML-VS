{
  "nbformat": 4,
  "nbformat_minor": 0,
  "metadata": {
    "colab": {
      "provenance": []
    },
    "kernelspec": {
      "name": "python3",
      "display_name": "Python 3"
    },
    "language_info": {
      "name": "python"
    }
  },
  "cells": [
    {
      "cell_type": "code",
      "execution_count": 1,
      "metadata": {
        "id": "pk7jJbX1_scO"
      },
      "outputs": [],
      "source": [
        "import pandas as pd"
      ]
    },
    {
      "cell_type": "code",
      "source": [
        "df_sales = pd.read_csv(\"WA_Fn-UseC_-Sales-Win-Loss.csv\")\n",
        "\n",
        "df_sales"
      ],
      "metadata": {
        "id": "DNqMI6_qAWAC"
      },
      "execution_count": null,
      "outputs": []
    },
    {
      "cell_type": "code",
      "source": [
        "df_sales.columns"
      ],
      "metadata": {
        "id": "vvtAjYbDAhHz"
      },
      "execution_count": null,
      "outputs": []
    },
    {
      "cell_type": "code",
      "source": [
        "df_sales.dtypes"
      ],
      "metadata": {
        "id": "mq8kBxBQAo5B"
      },
      "execution_count": null,
      "outputs": []
    },
    {
      "cell_type": "code",
      "source": [
        "import seaborn as sns\n",
        "import matplotlib.pyplot as plt\n"
      ],
      "metadata": {
        "id": "2tse-WJrAx5s"
      },
      "execution_count": 7,
      "outputs": []
    },
    {
      "cell_type": "code",
      "source": [
        "sns.set(style='whitegrid', color_codes=True)\n",
        "sns.set( rc={'figure.figsize':(12,7)} )\n",
        "sns.countplot( data=df_sales, x='Route To Market', hue='Opportunity Result')\n",
        "#sns.despine(trim=True, offset=20)"
      ],
      "metadata": {
        "id": "AIUL2R_5BGdz"
      },
      "execution_count": null,
      "outputs": []
    },
    {
      "cell_type": "code",
      "source": [
        "sns.set( rc={'figure.figsize': (12,8) }  )\n",
        "sns.violinplot( x=\"Opportunity Result\", y='Client Size By Revenue', hue=\"Opportunity Result\", data=df_sales   )"
      ],
      "metadata": {
        "id": "ZheeilXBDBE3"
      },
      "execution_count": null,
      "outputs": []
    },
    {
      "cell_type": "code",
      "source": [
        "from sklearn import preprocessing"
      ],
      "metadata": {
        "id": "-_CL5U1hHdST"
      },
      "execution_count": 26,
      "outputs": []
    },
    {
      "cell_type": "code",
      "source": [
        "le = preprocessing.LabelEncoder()\n",
        "df_sales['Supplies Subgroup'] = le.fit_transform( df_sales['Supplies Subgroup'] )\n",
        "df_sales['Region'] = le.fit_transform( df_sales['Region'] )\n",
        "df_sales['Supplies Subgroup'] = le.fit_transform( df_sales['Supplies Subgroup'] )\n",
        "df_sales['Route To Market'] = le.fit_transform( df_sales['Route To Market'] )\n",
        "df_sales['Opportunity Result'] = le.fit_transform( df_sales['Opportunity Result'] )\n",
        "df_sales['Competitor Type'] = le.fit_transform( df_sales['Competitor Type'] )\n",
        "df_sales['Supplies Group'] = le.fit_transform( df_sales['Supplies Group'] )"
      ],
      "metadata": {
        "id": "QXb_Ubt5H0Lw"
      },
      "execution_count": null,
      "outputs": []
    },
    {
      "cell_type": "code",
      "source": [
        "X = df_sales.drop(columns=['Opportunity Result'], axis=1 )\n",
        "y  = df_sales [['Opportunity Result']]\n"
      ],
      "metadata": {
        "id": "q625qwuMI6pf"
      },
      "execution_count": 34,
      "outputs": []
    },
    {
      "cell_type": "code",
      "source": [
        "X.hist( bins=20, figsize=(15,15) )"
      ],
      "metadata": {
        "id": "VTQqondUagDJ"
      },
      "execution_count": null,
      "outputs": []
    },
    {
      "cell_type": "code",
      "source": [
        "from sklearn.model_selection import train_test_split"
      ],
      "metadata": {
        "id": "1iPzSuk5JRlO"
      },
      "execution_count": 38,
      "outputs": []
    },
    {
      "cell_type": "code",
      "source": [
        "from sklearn.model_selection import StratifiedShuffleSplit\n",
        "\n",
        "\n",
        "sss = StratifiedShuffleSplit( n_splits=1, test_size=0.2  )\n",
        "\n",
        "for train_i, test_i in sss.split( df_sales,df_sales['Opportunity Result'] ):\n",
        "  s_train_set = df_sales.loc[train_i]\n",
        "  s_test_set = df_sales.loc[test_i]\n",
        "\n",
        "X_train = s_train_set.drop(columns=['Opportunity Result'], axis=1 )\n",
        "y_train  = s_train_set [['Opportunity Result']]\n",
        "\n",
        "X_test = s_test_set.drop(columns=['Opportunity Result'], axis=1 )\n",
        "y_test  = s_test_set [['Opportunity Result']]\n",
        "\n",
        "\n"
      ],
      "metadata": {
        "id": "-kB3Wmybb1ZO"
      },
      "execution_count": 95,
      "outputs": []
    },
    {
      "cell_type": "code",
      "source": [],
      "metadata": {
        "id": "U7wcjD4Zc38l"
      },
      "execution_count": null,
      "outputs": []
    },
    {
      "cell_type": "code",
      "source": [
        "#X_train,X_test, y_train, y_test = train_test_split ( X, y , test_size=0.2)"
      ],
      "metadata": {
        "id": "0JuPy6ODJWSb"
      },
      "execution_count": 65,
      "outputs": []
    },
    {
      "cell_type": "code",
      "source": [
        "X_test.hist( bins=20, figsize=(15,15) )"
      ],
      "metadata": {
        "id": "Z7sazd7lauBw"
      },
      "execution_count": null,
      "outputs": []
    },
    {
      "cell_type": "code",
      "source": [
        "X_test"
      ],
      "metadata": {
        "id": "fGcD1S33JlIi"
      },
      "execution_count": null,
      "outputs": []
    },
    {
      "cell_type": "code",
      "source": [
        "from sklearn.naive_bayes import GaussianNB\n",
        "from sklearn.metrics import accuracy_score"
      ],
      "metadata": {
        "id": "LRstAbdAKYPu"
      },
      "execution_count": 66,
      "outputs": []
    },
    {
      "cell_type": "code",
      "source": [
        "gnb = GaussianNB()\n",
        "gnb.fit( X_train, y_train )"
      ],
      "metadata": {
        "id": "mM8emsvRKhzD"
      },
      "execution_count": null,
      "outputs": []
    },
    {
      "cell_type": "code",
      "source": [
        "pred_gnb = gnb.predict(X_test)"
      ],
      "metadata": {
        "id": "ZHFGIw6YKo0G"
      },
      "execution_count": 98,
      "outputs": []
    },
    {
      "cell_type": "code",
      "source": [
        "gnb_acc  = accuracy_score(y_test, pred_gnb)\n",
        "gnb_acc"
      ],
      "metadata": {
        "colab": {
          "base_uri": "https://localhost:8080/"
        },
        "id": "7vpiUEg9K1R6",
        "outputId": "27156a4a-4a78-490a-fb88-81b642e5c46b"
      },
      "execution_count": 99,
      "outputs": [
        {
          "output_type": "execute_result",
          "data": {
            "text/plain": [
              "0.775136174303108"
            ]
          },
          "metadata": {},
          "execution_count": 99
        }
      ]
    },
    {
      "cell_type": "code",
      "source": [
        "from sklearn.svm import LinearSVC\n",
        "svc  = LinearSVC()\n",
        "svc_model = svc.fit(X_train, y_train)"
      ],
      "metadata": {
        "id": "LPJSIMLTQPoJ"
      },
      "execution_count": null,
      "outputs": []
    },
    {
      "cell_type": "code",
      "source": [
        "pred_svc = svc_model.predict(X_test)"
      ],
      "metadata": {
        "id": "x_dJZgQTQofJ"
      },
      "execution_count": 101,
      "outputs": []
    },
    {
      "cell_type": "code",
      "source": [
        "pred_svc"
      ],
      "metadata": {
        "colab": {
          "base_uri": "https://localhost:8080/"
        },
        "id": "_Iez2SjGQwq4",
        "outputId": "0af08f43-2191-4e80-cb8b-fb0ba17a3f09"
      },
      "execution_count": 102,
      "outputs": [
        {
          "output_type": "execute_result",
          "data": {
            "text/plain": [
              "array([0, 0, 0, ..., 0, 0, 0])"
            ]
          },
          "metadata": {},
          "execution_count": 102
        }
      ]
    },
    {
      "cell_type": "code",
      "source": [
        "svc_acc  = accuracy_score(y_test, pred_svc)\n",
        "svc_acc"
      ],
      "metadata": {
        "colab": {
          "base_uri": "https://localhost:8080/"
        },
        "id": "ULDCH655QyXg",
        "outputId": "ecc8e56f-d578-4c43-d4ae-5fd2a5cfd723"
      },
      "execution_count": 103,
      "outputs": [
        {
          "output_type": "execute_result",
          "data": {
            "text/plain": [
              "0.7741108619032362"
            ]
          },
          "metadata": {},
          "execution_count": 103
        }
      ]
    },
    {
      "cell_type": "code",
      "source": [
        "from sklearn.neighbors import KNeighborsClassifier\n",
        "neigh = KNeighborsClassifier(n_neighbors=4)"
      ],
      "metadata": {
        "id": "4cjY_w7NRDmO"
      },
      "execution_count": 104,
      "outputs": []
    },
    {
      "cell_type": "code",
      "source": [
        "neigh_model  = neigh.fit(X_train, y_train)"
      ],
      "metadata": {
        "colab": {
          "base_uri": "https://localhost:8080/"
        },
        "id": "I8lyZ6RARmDl",
        "outputId": "802c033b-07e7-42ac-8028-6e3b58b9f729"
      },
      "execution_count": 105,
      "outputs": [
        {
          "output_type": "stream",
          "name": "stderr",
          "text": [
            "/usr/local/lib/python3.10/dist-packages/sklearn/neighbors/_classification.py:233: DataConversionWarning: A column-vector y was passed when a 1d array was expected. Please change the shape of y to (n_samples,), for example using ravel().\n",
            "  return self._fit(X, y)\n"
          ]
        }
      ]
    },
    {
      "cell_type": "code",
      "source": [
        "neigh_pred = neigh.predict(X_test)"
      ],
      "metadata": {
        "id": "aknY_WyFRyBV"
      },
      "execution_count": 106,
      "outputs": []
    },
    {
      "cell_type": "code",
      "source": [
        "neigh_pred"
      ],
      "metadata": {
        "colab": {
          "base_uri": "https://localhost:8080/"
        },
        "id": "fPBBCbCISAMI",
        "outputId": "7a685fd1-76c1-4530-c321-856838938b36"
      },
      "execution_count": 81,
      "outputs": [
        {
          "output_type": "execute_result",
          "data": {
            "text/plain": [
              "array([0, 0, 0, ..., 0, 0, 0])"
            ]
          },
          "metadata": {},
          "execution_count": 81
        }
      ]
    },
    {
      "cell_type": "code",
      "source": [
        "neigh_acc  = accuracy_score(y_test, neigh_pred)\n",
        "neigh_acc"
      ],
      "metadata": {
        "colab": {
          "base_uri": "https://localhost:8080/"
        },
        "id": "uVaLfMDqSBq1",
        "outputId": "d7630c56-7e90-41e7-a4e0-9638e2c3177c"
      },
      "execution_count": 107,
      "outputs": [
        {
          "output_type": "execute_result",
          "data": {
            "text/plain": [
              "0.7696892021787889"
            ]
          },
          "metadata": {},
          "execution_count": 107
        }
      ]
    },
    {
      "cell_type": "code",
      "source": [
        "from yellowbrick.classifier import ClassificationReport"
      ],
      "metadata": {
        "id": "6YZ0KvolXKQN"
      },
      "execution_count": 108,
      "outputs": []
    },
    {
      "cell_type": "code",
      "source": [
        "visualizer = ClassificationReport( gnb, classes=['Won','Loss'] )\n",
        "visualizer.fit( X_train, y_train)\n",
        "visualizer.score(X_test,y_test)\n",
        "g = visualizer.poof()"
      ],
      "metadata": {
        "id": "GpczcB1qXQV5"
      },
      "execution_count": null,
      "outputs": []
    },
    {
      "cell_type": "markdown",
      "source": [
        "2 * ( (P*R) / (P+R)   )"
      ],
      "metadata": {
        "id": "8XuqtzQYY9Na"
      }
    },
    {
      "cell_type": "code",
      "source": [
        "visualizer = ClassificationReport( svc, classes=['Won','Loss'] )\n",
        "visualizer.fit( X_train, y_train)\n",
        "visualizer.score(X_test,y_test)\n",
        "g = visualizer.poof()"
      ],
      "metadata": {
        "id": "GcEl95eIZhOE"
      },
      "execution_count": null,
      "outputs": []
    },
    {
      "cell_type": "code",
      "source": [
        "visualizer = ClassificationReport( neigh, classes=['Won','Loss'] )\n",
        "visualizer.fit( X_train, y_train)\n",
        "visualizer.score(X_test,y_test)\n",
        "g = visualizer.poof()"
      ],
      "metadata": {
        "id": "9us-I1KIY8xP"
      },
      "execution_count": null,
      "outputs": []
    }
  ]
}