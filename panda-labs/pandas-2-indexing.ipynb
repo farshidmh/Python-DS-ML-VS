{
 "cells": [
  {
   "cell_type": "markdown",
   "id": "7d4fd7e1-48c7-4fdb-9255-f35cf10a9283",
   "metadata": {},
   "source": [
    "## Pandas DF Slicing"
   ]
  },
  {
   "cell_type": "code",
   "execution_count": 67,
   "id": "562df085-a267-4d97-99e9-816b619b3cd3",
   "metadata": {},
   "outputs": [
    {
     "data": {
      "text/html": [
       "<div>\n",
       "<style scoped>\n",
       "    .dataframe tbody tr th:only-of-type {\n",
       "        vertical-align: middle;\n",
       "    }\n",
       "\n",
       "    .dataframe tbody tr th {\n",
       "        vertical-align: top;\n",
       "    }\n",
       "\n",
       "    .dataframe thead th {\n",
       "        text-align: right;\n",
       "    }\n",
       "</style>\n",
       "<table border=\"1\" class=\"dataframe\">\n",
       "  <thead>\n",
       "    <tr style=\"text-align: right;\">\n",
       "      <th></th>\n",
       "      <th>col-0</th>\n",
       "      <th>col-1</th>\n",
       "      <th>col-2</th>\n",
       "    </tr>\n",
       "  </thead>\n",
       "  <tbody>\n",
       "    <tr>\n",
       "      <th>0</th>\n",
       "      <td>cell-0-0</td>\n",
       "      <td>cell-0-1</td>\n",
       "      <td>cell-0-2</td>\n",
       "    </tr>\n",
       "    <tr>\n",
       "      <th>1</th>\n",
       "      <td>cell-1-0</td>\n",
       "      <td>cell-1-1</td>\n",
       "      <td>cell-1-2</td>\n",
       "    </tr>\n",
       "    <tr>\n",
       "      <th>2</th>\n",
       "      <td>cell-2-0</td>\n",
       "      <td>cell-2-1</td>\n",
       "      <td>cell-2-2</td>\n",
       "    </tr>\n",
       "    <tr>\n",
       "      <th>3</th>\n",
       "      <td>cell-3-0</td>\n",
       "      <td>cell-3-1</td>\n",
       "      <td>cell-3-2</td>\n",
       "    </tr>\n",
       "    <tr>\n",
       "      <th>4</th>\n",
       "      <td>cell-4-0</td>\n",
       "      <td>cell-4-1</td>\n",
       "      <td>cell-4-2</td>\n",
       "    </tr>\n",
       "  </tbody>\n",
       "</table>\n",
       "</div>"
      ],
      "text/plain": [
       "      col-0     col-1     col-2\n",
       "0  cell-0-0  cell-0-1  cell-0-2\n",
       "1  cell-1-0  cell-1-1  cell-1-2\n",
       "2  cell-2-0  cell-2-1  cell-2-2\n",
       "3  cell-3-0  cell-3-1  cell-3-2\n",
       "4  cell-4-0  cell-4-1  cell-4-2"
      ]
     },
     "execution_count": 67,
     "metadata": {},
     "output_type": "execute_result"
    }
   ],
   "source": [
    "import pandas as pd\n",
    "\n",
    "df = pd.DataFrame({'col-0' : ['cell-0-0', 'cell-1-0', 'cell-2-0', 'cell-3-0', 'cell-4-0'],\n",
    "                   'col-1' : ['cell-0-1', 'cell-1-1', 'cell-2-1', 'cell-3-1', 'cell-4-1'],\n",
    "                   'col-2' : ['cell-0-2', 'cell-1-2', 'cell-2-2', 'cell-3-2', 'cell-4-2']\n",
    "                  })\n",
    "\n",
    "df"
   ]
  },
  {
   "cell_type": "markdown",
   "id": "c8f806fc-02ce-4f02-851d-21ecec1edf23",
   "metadata": {},
   "source": [
    "## Size of df - Shape"
   ]
  },
  {
   "cell_type": "code",
   "execution_count": 68,
   "id": "388b51f2-f612-4f82-81d0-7faca0eadc69",
   "metadata": {},
   "outputs": [
    {
     "data": {
      "text/plain": [
       "(5, 3)"
      ]
     },
     "execution_count": 68,
     "metadata": {},
     "output_type": "execute_result"
    }
   ],
   "source": [
    "df.shape"
   ]
  },
  {
   "cell_type": "code",
   "execution_count": 69,
   "id": "2e4341f8-8502-4b78-a047-fd9b0f68f8b2",
   "metadata": {},
   "outputs": [
    {
     "name": "stdout",
     "output_type": "stream",
     "text": [
      "#rows:  5\n"
     ]
    }
   ],
   "source": [
    "print ('#rows: ', df.shape[0])"
   ]
  },
  {
   "cell_type": "code",
   "execution_count": 70,
   "id": "aabd294c-4cfd-4db2-b7ef-a11b8797ea84",
   "metadata": {},
   "outputs": [
    {
     "name": "stdout",
     "output_type": "stream",
     "text": [
      "#cols:  3\n"
     ]
    }
   ],
   "source": [
    "print ('#cols: ', df.shape[1])"
   ]
  },
  {
   "cell_type": "markdown",
   "id": "86ad7239-8115-47a3-8d70-a2610e02a679",
   "metadata": {},
   "source": [
    "## Access Cells - iloc\n",
    "\n",
    "`iloc` takes numbers as indexes"
   ]
  },
  {
   "cell_type": "code",
   "execution_count": 71,
   "id": "753e122e-a60f-4c44-800c-11edcaa21bfa",
   "metadata": {},
   "outputs": [
    {
     "name": "stdout",
     "output_type": "stream",
     "text": [
      "df.iloc[0,0] : cell-0-0\n",
      "df.iloc[0,1] : cell-0-1\n",
      "df.iloc[1,1] : cell-1-1\n"
     ]
    }
   ],
   "source": [
    "print ('df.iloc[0,0] :', df.iloc[0,0])\n",
    "print ('df.iloc[0,1] :', df.iloc[0,1])\n",
    "print ('df.iloc[1,1] :', df.iloc[1,1])\n",
    "\n",
    "## Todo play with some indexes"
   ]
  },
  {
   "cell_type": "code",
   "execution_count": 72,
   "id": "44f1602e-de3e-4be8-83a0-511ef7acd41e",
   "metadata": {},
   "outputs": [
    {
     "ename": "IndexError",
     "evalue": "index 10 is out of bounds for axis 0 with size 5",
     "output_type": "error",
     "traceback": [
      "\u001b[0;31m---------------------------------------------------------------------------\u001b[0m",
      "\u001b[0;31mIndexError\u001b[0m                                Traceback (most recent call last)",
      "\u001b[0;32m/tmp/ipykernel_371278/1737318960.py\u001b[0m in \u001b[0;36m<module>\u001b[0;34m\u001b[0m\n\u001b[1;32m      1\u001b[0m \u001b[0;31m## TODO: What happens when the index is out of range?\u001b[0m\u001b[0;34m\u001b[0m\u001b[0;34m\u001b[0m\u001b[0;34m\u001b[0m\u001b[0m\n\u001b[0;32m----> 2\u001b[0;31m \u001b[0mdf\u001b[0m\u001b[0;34m.\u001b[0m\u001b[0miloc\u001b[0m\u001b[0;34m[\u001b[0m\u001b[0;36m10\u001b[0m\u001b[0;34m,\u001b[0m\u001b[0;36m0\u001b[0m\u001b[0;34m]\u001b[0m\u001b[0;34m\u001b[0m\u001b[0;34m\u001b[0m\u001b[0m\n\u001b[0m",
      "\u001b[0;32m~/anaconda3/lib/python3.8/site-packages/pandas/core/indexing.py\u001b[0m in \u001b[0;36m__getitem__\u001b[0;34m(self, key)\u001b[0m\n\u001b[1;32m   1064\u001b[0m             \u001b[0mkey\u001b[0m \u001b[0;34m=\u001b[0m \u001b[0mtuple\u001b[0m\u001b[0;34m(\u001b[0m\u001b[0mcom\u001b[0m\u001b[0;34m.\u001b[0m\u001b[0mapply_if_callable\u001b[0m\u001b[0;34m(\u001b[0m\u001b[0mx\u001b[0m\u001b[0;34m,\u001b[0m \u001b[0mself\u001b[0m\u001b[0;34m.\u001b[0m\u001b[0mobj\u001b[0m\u001b[0;34m)\u001b[0m \u001b[0;32mfor\u001b[0m \u001b[0mx\u001b[0m \u001b[0;32min\u001b[0m \u001b[0mkey\u001b[0m\u001b[0;34m)\u001b[0m\u001b[0;34m\u001b[0m\u001b[0;34m\u001b[0m\u001b[0m\n\u001b[1;32m   1065\u001b[0m             \u001b[0;32mif\u001b[0m \u001b[0mself\u001b[0m\u001b[0;34m.\u001b[0m\u001b[0m_is_scalar_access\u001b[0m\u001b[0;34m(\u001b[0m\u001b[0mkey\u001b[0m\u001b[0;34m)\u001b[0m\u001b[0;34m:\u001b[0m\u001b[0;34m\u001b[0m\u001b[0;34m\u001b[0m\u001b[0m\n\u001b[0;32m-> 1066\u001b[0;31m                 \u001b[0;32mreturn\u001b[0m \u001b[0mself\u001b[0m\u001b[0;34m.\u001b[0m\u001b[0mobj\u001b[0m\u001b[0;34m.\u001b[0m\u001b[0m_get_value\u001b[0m\u001b[0;34m(\u001b[0m\u001b[0;34m*\u001b[0m\u001b[0mkey\u001b[0m\u001b[0;34m,\u001b[0m \u001b[0mtakeable\u001b[0m\u001b[0;34m=\u001b[0m\u001b[0mself\u001b[0m\u001b[0;34m.\u001b[0m\u001b[0m_takeable\u001b[0m\u001b[0;34m)\u001b[0m\u001b[0;34m\u001b[0m\u001b[0;34m\u001b[0m\u001b[0m\n\u001b[0m\u001b[1;32m   1067\u001b[0m             \u001b[0;32mreturn\u001b[0m \u001b[0mself\u001b[0m\u001b[0;34m.\u001b[0m\u001b[0m_getitem_tuple\u001b[0m\u001b[0;34m(\u001b[0m\u001b[0mkey\u001b[0m\u001b[0;34m)\u001b[0m\u001b[0;34m\u001b[0m\u001b[0;34m\u001b[0m\u001b[0m\n\u001b[1;32m   1068\u001b[0m         \u001b[0;32melse\u001b[0m\u001b[0;34m:\u001b[0m\u001b[0;34m\u001b[0m\u001b[0;34m\u001b[0m\u001b[0m\n",
      "\u001b[0;32m~/anaconda3/lib/python3.8/site-packages/pandas/core/frame.py\u001b[0m in \u001b[0;36m_get_value\u001b[0;34m(self, index, col, takeable)\u001b[0m\n\u001b[1;32m   3911\u001b[0m         \u001b[0;32mif\u001b[0m \u001b[0mtakeable\u001b[0m\u001b[0;34m:\u001b[0m\u001b[0;34m\u001b[0m\u001b[0;34m\u001b[0m\u001b[0m\n\u001b[1;32m   3912\u001b[0m             \u001b[0mseries\u001b[0m \u001b[0;34m=\u001b[0m \u001b[0mself\u001b[0m\u001b[0;34m.\u001b[0m\u001b[0m_ixs\u001b[0m\u001b[0;34m(\u001b[0m\u001b[0mcol\u001b[0m\u001b[0;34m,\u001b[0m \u001b[0maxis\u001b[0m\u001b[0;34m=\u001b[0m\u001b[0;36m1\u001b[0m\u001b[0;34m)\u001b[0m\u001b[0;34m\u001b[0m\u001b[0;34m\u001b[0m\u001b[0m\n\u001b[0;32m-> 3913\u001b[0;31m             \u001b[0;32mreturn\u001b[0m \u001b[0mseries\u001b[0m\u001b[0;34m.\u001b[0m\u001b[0m_values\u001b[0m\u001b[0;34m[\u001b[0m\u001b[0mindex\u001b[0m\u001b[0;34m]\u001b[0m\u001b[0;34m\u001b[0m\u001b[0;34m\u001b[0m\u001b[0m\n\u001b[0m\u001b[1;32m   3914\u001b[0m \u001b[0;34m\u001b[0m\u001b[0m\n\u001b[1;32m   3915\u001b[0m         \u001b[0mseries\u001b[0m \u001b[0;34m=\u001b[0m \u001b[0mself\u001b[0m\u001b[0;34m.\u001b[0m\u001b[0m_get_item_cache\u001b[0m\u001b[0;34m(\u001b[0m\u001b[0mcol\u001b[0m\u001b[0;34m)\u001b[0m\u001b[0;34m\u001b[0m\u001b[0;34m\u001b[0m\u001b[0m\n",
      "\u001b[0;31mIndexError\u001b[0m: index 10 is out of bounds for axis 0 with size 5"
     ]
    }
   ],
   "source": [
    "## TODO: What happens when the index is out of range?\n",
    "df.iloc[10,0]"
   ]
  },
  {
   "cell_type": "code",
   "execution_count": null,
   "id": "2d5e01f6-e7e0-4f92-a2f5-ed0994794c31",
   "metadata": {},
   "outputs": [],
   "source": [
    "## TODO: What is the max index can you go to?\n",
    "## Hint: see size above"
   ]
  },
  {
   "cell_type": "markdown",
   "id": "a67ffdc4-add5-4a98-9a1a-cfa32535514b",
   "metadata": {},
   "source": [
    "## Access Rows - `iloc`\n",
    "\n",
    "We can get entire rows using iloc as well"
   ]
  },
  {
   "cell_type": "code",
   "execution_count": 73,
   "id": "5d70f2e0-368b-4904-855c-4a239ca65041",
   "metadata": {},
   "outputs": [
    {
     "data": {
      "text/plain": [
       "col-0    cell-0-0\n",
       "col-1    cell-0-1\n",
       "col-2    cell-0-2\n",
       "Name: 0, dtype: object"
      ]
     },
     "execution_count": 73,
     "metadata": {},
     "output_type": "execute_result"
    }
   ],
   "source": [
    "# row 0\n",
    "df.iloc[0]"
   ]
  },
  {
   "cell_type": "code",
   "execution_count": 75,
   "id": "d148345d-96d9-4df2-a9d6-a9479b9b180c",
   "metadata": {},
   "outputs": [
    {
     "data": {
      "text/plain": [
       "pandas.core.series.Series"
      ]
     },
     "execution_count": 75,
     "metadata": {},
     "output_type": "execute_result"
    }
   ],
   "source": [
    "# what is this type\n",
    "type (df.iloc[0])"
   ]
  },
  {
   "cell_type": "code",
   "execution_count": 76,
   "id": "e93b5602-4b5f-417e-905e-56e836777d0d",
   "metadata": {},
   "outputs": [
    {
     "data": {
      "text/html": [
       "<div>\n",
       "<style scoped>\n",
       "    .dataframe tbody tr th:only-of-type {\n",
       "        vertical-align: middle;\n",
       "    }\n",
       "\n",
       "    .dataframe tbody tr th {\n",
       "        vertical-align: top;\n",
       "    }\n",
       "\n",
       "    .dataframe thead th {\n",
       "        text-align: right;\n",
       "    }\n",
       "</style>\n",
       "<table border=\"1\" class=\"dataframe\">\n",
       "  <thead>\n",
       "    <tr style=\"text-align: right;\">\n",
       "      <th></th>\n",
       "      <th>col-0</th>\n",
       "      <th>col-1</th>\n",
       "      <th>col-2</th>\n",
       "    </tr>\n",
       "  </thead>\n",
       "  <tbody>\n",
       "    <tr>\n",
       "      <th>0</th>\n",
       "      <td>cell-0-0</td>\n",
       "      <td>cell-0-1</td>\n",
       "      <td>cell-0-2</td>\n",
       "    </tr>\n",
       "    <tr>\n",
       "      <th>1</th>\n",
       "      <td>cell-1-0</td>\n",
       "      <td>cell-1-1</td>\n",
       "      <td>cell-1-2</td>\n",
       "    </tr>\n",
       "  </tbody>\n",
       "</table>\n",
       "</div>"
      ],
      "text/plain": [
       "      col-0     col-1     col-2\n",
       "0  cell-0-0  cell-0-1  cell-0-2\n",
       "1  cell-1-0  cell-1-1  cell-1-2"
      ]
     },
     "execution_count": 76,
     "metadata": {},
     "output_type": "execute_result"
    }
   ],
   "source": [
    "# Let's get multiple rows\n",
    "df.iloc[0:2]"
   ]
  },
  {
   "cell_type": "code",
   "execution_count": 77,
   "id": "6f77638c-2fff-4518-940b-43706961b0de",
   "metadata": {},
   "outputs": [
    {
     "data": {
      "text/plain": [
       "pandas.core.frame.DataFrame"
      ]
     },
     "execution_count": 77,
     "metadata": {},
     "output_type": "execute_result"
    }
   ],
   "source": [
    "# What type is it?\n",
    "type (df.iloc[0:2])"
   ]
  },
  {
   "cell_type": "markdown",
   "id": "44a0f38b-5e0e-4879-952f-d343fcb3ef66",
   "metadata": {},
   "source": [
    "## Access Rows - loc"
   ]
  },
  {
   "cell_type": "code",
   "execution_count": 78,
   "id": "dca754da-0d2e-4016-ad3c-a164f7feea8b",
   "metadata": {},
   "outputs": [
    {
     "data": {
      "text/plain": [
       "col-0    cell-0-0\n",
       "col-1    cell-0-1\n",
       "col-2    cell-0-2\n",
       "Name: 0, dtype: object"
      ]
     },
     "execution_count": 78,
     "metadata": {},
     "output_type": "execute_result"
    }
   ],
   "source": [
    "# What do we get here?\n",
    "# we get row-0\n",
    "df.loc[0]"
   ]
  },
  {
   "cell_type": "code",
   "execution_count": 79,
   "id": "62555820-ce35-4f0c-b08f-03b1470a618f",
   "metadata": {},
   "outputs": [
    {
     "data": {
      "text/plain": [
       "pandas.core.series.Series"
      ]
     },
     "execution_count": 79,
     "metadata": {},
     "output_type": "execute_result"
    }
   ],
   "source": [
    "# What type is this?\n",
    "## it is a Series\n",
    "\n",
    "type (df.loc[0])"
   ]
  },
  {
   "cell_type": "code",
   "execution_count": 80,
   "id": "4d0a7980-1bc1-4189-b4ed-438fce8ce108",
   "metadata": {},
   "outputs": [
    {
     "data": {
      "text/html": [
       "<div>\n",
       "<style scoped>\n",
       "    .dataframe tbody tr th:only-of-type {\n",
       "        vertical-align: middle;\n",
       "    }\n",
       "\n",
       "    .dataframe tbody tr th {\n",
       "        vertical-align: top;\n",
       "    }\n",
       "\n",
       "    .dataframe thead th {\n",
       "        text-align: right;\n",
       "    }\n",
       "</style>\n",
       "<table border=\"1\" class=\"dataframe\">\n",
       "  <thead>\n",
       "    <tr style=\"text-align: right;\">\n",
       "      <th></th>\n",
       "      <th>col-0</th>\n",
       "      <th>col-1</th>\n",
       "      <th>col-2</th>\n",
       "    </tr>\n",
       "  </thead>\n",
       "  <tbody>\n",
       "    <tr>\n",
       "      <th>0</th>\n",
       "      <td>cell-0-0</td>\n",
       "      <td>cell-0-1</td>\n",
       "      <td>cell-0-2</td>\n",
       "    </tr>\n",
       "    <tr>\n",
       "      <th>1</th>\n",
       "      <td>cell-1-0</td>\n",
       "      <td>cell-1-1</td>\n",
       "      <td>cell-1-2</td>\n",
       "    </tr>\n",
       "    <tr>\n",
       "      <th>2</th>\n",
       "      <td>cell-2-0</td>\n",
       "      <td>cell-2-1</td>\n",
       "      <td>cell-2-2</td>\n",
       "    </tr>\n",
       "  </tbody>\n",
       "</table>\n",
       "</div>"
      ],
      "text/plain": [
       "      col-0     col-1     col-2\n",
       "0  cell-0-0  cell-0-1  cell-0-2\n",
       "1  cell-1-0  cell-1-1  cell-1-2\n",
       "2  cell-2-0  cell-2-1  cell-2-2"
      ]
     },
     "execution_count": 80,
     "metadata": {},
     "output_type": "execute_result"
    }
   ],
   "source": [
    "# Get multiple rows\n",
    "df.loc[0:2]"
   ]
  },
  {
   "cell_type": "code",
   "execution_count": 81,
   "id": "a00bbd6a-9115-4eb7-833f-98f13c2c9ad9",
   "metadata": {},
   "outputs": [
    {
     "data": {
      "text/plain": [
       "pandas.core.frame.DataFrame"
      ]
     },
     "execution_count": 81,
     "metadata": {},
     "output_type": "execute_result"
    }
   ],
   "source": [
    "# what type is it?\n",
    "## interesting :-)\n",
    "\n",
    "type (df.loc[0:2])"
   ]
  },
  {
   "cell_type": "code",
   "execution_count": 82,
   "id": "d92bcb15-4e3a-4fc3-92ff-691f5a17248f",
   "metadata": {},
   "outputs": [
    {
     "data": {
      "text/html": [
       "<div>\n",
       "<style scoped>\n",
       "    .dataframe tbody tr th:only-of-type {\n",
       "        vertical-align: middle;\n",
       "    }\n",
       "\n",
       "    .dataframe tbody tr th {\n",
       "        vertical-align: top;\n",
       "    }\n",
       "\n",
       "    .dataframe thead th {\n",
       "        text-align: right;\n",
       "    }\n",
       "</style>\n",
       "<table border=\"1\" class=\"dataframe\">\n",
       "  <thead>\n",
       "    <tr style=\"text-align: right;\">\n",
       "      <th></th>\n",
       "      <th>col-0</th>\n",
       "      <th>col-1</th>\n",
       "      <th>col-2</th>\n",
       "    </tr>\n",
       "  </thead>\n",
       "  <tbody>\n",
       "    <tr>\n",
       "      <th>0</th>\n",
       "      <td>cell-0-0</td>\n",
       "      <td>cell-0-1</td>\n",
       "      <td>cell-0-2</td>\n",
       "    </tr>\n",
       "  </tbody>\n",
       "</table>\n",
       "</div>"
      ],
      "text/plain": [
       "      col-0     col-1     col-2\n",
       "0  cell-0-0  cell-0-1  cell-0-2"
      ]
     },
     "execution_count": 82,
     "metadata": {},
     "output_type": "execute_result"
    }
   ],
   "source": [
    "## What do we get when we use double brackets  [[ ]]\n",
    "df.loc[[0]]"
   ]
  },
  {
   "cell_type": "code",
   "execution_count": 83,
   "id": "6f86f070-b671-448d-bee3-4884bdd4c444",
   "metadata": {},
   "outputs": [
    {
     "data": {
      "text/plain": [
       "pandas.core.frame.DataFrame"
      ]
     },
     "execution_count": 83,
     "metadata": {},
     "output_type": "execute_result"
    }
   ],
   "source": [
    "# And what type is it?\n",
    "\n",
    "type (df.loc[[0]])"
   ]
  },
  {
   "cell_type": "code",
   "execution_count": 84,
   "id": "4c996fe6-00cb-426f-b0da-f92afc01c212",
   "metadata": {},
   "outputs": [
    {
     "data": {
      "text/html": [
       "<div>\n",
       "<style scoped>\n",
       "    .dataframe tbody tr th:only-of-type {\n",
       "        vertical-align: middle;\n",
       "    }\n",
       "\n",
       "    .dataframe tbody tr th {\n",
       "        vertical-align: top;\n",
       "    }\n",
       "\n",
       "    .dataframe thead th {\n",
       "        text-align: right;\n",
       "    }\n",
       "</style>\n",
       "<table border=\"1\" class=\"dataframe\">\n",
       "  <thead>\n",
       "    <tr style=\"text-align: right;\">\n",
       "      <th></th>\n",
       "      <th>col-0</th>\n",
       "      <th>col-1</th>\n",
       "      <th>col-2</th>\n",
       "    </tr>\n",
       "  </thead>\n",
       "  <tbody>\n",
       "    <tr>\n",
       "      <th>0</th>\n",
       "      <td>cell-0-0</td>\n",
       "      <td>cell-0-1</td>\n",
       "      <td>cell-0-2</td>\n",
       "    </tr>\n",
       "    <tr>\n",
       "      <th>2</th>\n",
       "      <td>cell-2-0</td>\n",
       "      <td>cell-2-1</td>\n",
       "      <td>cell-2-2</td>\n",
       "    </tr>\n",
       "  </tbody>\n",
       "</table>\n",
       "</div>"
      ],
      "text/plain": [
       "      col-0     col-1     col-2\n",
       "0  cell-0-0  cell-0-1  cell-0-2\n",
       "2  cell-2-0  cell-2-1  cell-2-2"
      ]
     },
     "execution_count": 84,
     "metadata": {},
     "output_type": "execute_result"
    }
   ],
   "source": [
    "# can we get multiple rows?\n",
    "df.loc[[0,2]]"
   ]
  },
  {
   "cell_type": "code",
   "execution_count": 85,
   "id": "40e30667-27b2-423f-bacc-084cca3e71d9",
   "metadata": {},
   "outputs": [
    {
     "data": {
      "text/plain": [
       "pandas.core.frame.DataFrame"
      ]
     },
     "execution_count": 85,
     "metadata": {},
     "output_type": "execute_result"
    }
   ],
   "source": [
    "type (df.loc[[0,2]])"
   ]
  },
  {
   "cell_type": "markdown",
   "id": "bbda1892-7b68-4d6b-a023-e41a719b3655",
   "metadata": {},
   "source": [
    "## iloc vs loc\n",
    "\n",
    "[loc vs iloc](https://stackoverflow.com/questions/31593201/how-are-iloc-and-loc-different)\n",
    "\n",
    "* `loc` gets rows (and/or columns) with particular labels.\n",
    "* `iloc` gets rows (and/or columns) at integer locations.\n",
    "\n",
    "Let's create a df with a non-numeric index"
   ]
  },
  {
   "cell_type": "code",
   "execution_count": 87,
   "id": "4d8e6aa5-4047-414e-b099-b64e0c5a83df",
   "metadata": {},
   "outputs": [
    {
     "data": {
      "text/html": [
       "<div>\n",
       "<style scoped>\n",
       "    .dataframe tbody tr th:only-of-type {\n",
       "        vertical-align: middle;\n",
       "    }\n",
       "\n",
       "    .dataframe tbody tr th {\n",
       "        vertical-align: top;\n",
       "    }\n",
       "\n",
       "    .dataframe thead th {\n",
       "        text-align: right;\n",
       "    }\n",
       "</style>\n",
       "<table border=\"1\" class=\"dataframe\">\n",
       "  <thead>\n",
       "    <tr style=\"text-align: right;\">\n",
       "      <th></th>\n",
       "      <th>col-0</th>\n",
       "      <th>col-1</th>\n",
       "      <th>col-2</th>\n",
       "    </tr>\n",
       "  </thead>\n",
       "  <tbody>\n",
       "    <tr>\n",
       "      <th>a</th>\n",
       "      <td>cell-a-0</td>\n",
       "      <td>cell-a-1</td>\n",
       "      <td>cell-a-2</td>\n",
       "    </tr>\n",
       "    <tr>\n",
       "      <th>b</th>\n",
       "      <td>cell-b-0</td>\n",
       "      <td>cell-b-1</td>\n",
       "      <td>cell-b-2</td>\n",
       "    </tr>\n",
       "    <tr>\n",
       "      <th>c</th>\n",
       "      <td>cell-c-0</td>\n",
       "      <td>cell-c-1</td>\n",
       "      <td>cell-c-2</td>\n",
       "    </tr>\n",
       "    <tr>\n",
       "      <th>d</th>\n",
       "      <td>cell-d-0</td>\n",
       "      <td>cell-d-1</td>\n",
       "      <td>cell-d-2</td>\n",
       "    </tr>\n",
       "    <tr>\n",
       "      <th>e</th>\n",
       "      <td>cell-e-0</td>\n",
       "      <td>cell-e-1</td>\n",
       "      <td>cell-e-2</td>\n",
       "    </tr>\n",
       "  </tbody>\n",
       "</table>\n",
       "</div>"
      ],
      "text/plain": [
       "      col-0     col-1     col-2\n",
       "a  cell-a-0  cell-a-1  cell-a-2\n",
       "b  cell-b-0  cell-b-1  cell-b-2\n",
       "c  cell-c-0  cell-c-1  cell-c-2\n",
       "d  cell-d-0  cell-d-1  cell-d-2\n",
       "e  cell-e-0  cell-e-1  cell-e-2"
      ]
     },
     "execution_count": 87,
     "metadata": {},
     "output_type": "execute_result"
    }
   ],
   "source": [
    "df2 = pd.DataFrame({'col-0' : ['cell-a-0', 'cell-b-0', 'cell-c-0', 'cell-d-0', 'cell-e-0'],\n",
    "                   'col-1' : ['cell-a-1', 'cell-b-1', 'cell-c-1', 'cell-d-1', 'cell-e-1'],\n",
    "                   'col-2' : ['cell-a-2', 'cell-b-2', 'cell-c-2', 'cell-d-2', 'cell-e-2']\n",
    "                  }, index=['a', 'b', 'c', 'd', 'e'])\n",
    "df2"
   ]
  },
  {
   "cell_type": "code",
   "execution_count": null,
   "id": "d5871a0d-ac06-43b3-aeb4-ae4b8aa00a62",
   "metadata": {},
   "outputs": [],
   "source": []
  },
  {
   "cell_type": "code",
   "execution_count": null,
   "id": "d1542cbb-28f2-4538-bfd2-b7dbdd52ceb1",
   "metadata": {},
   "outputs": [],
   "source": [
    "df2.loc['a']"
   ]
  },
  {
   "cell_type": "code",
   "execution_count": null,
   "id": "658216cc-d9f0-4ee2-b832-ca68395bcec8",
   "metadata": {},
   "outputs": [],
   "source": [
    "# will this work?\n",
    "# no, remember iloc needs a number\n",
    "df2.iloc['a'] "
   ]
  },
  {
   "cell_type": "code",
   "execution_count": null,
   "id": "411fd402-4611-4060-864b-bfc7cc45f645",
   "metadata": {},
   "outputs": [],
   "source": [
    "df2.iloc[0:2]"
   ]
  },
  {
   "cell_type": "code",
   "execution_count": null,
   "id": "ffd95310-32ca-4e9c-9a49-910d2cbd42f7",
   "metadata": {},
   "outputs": [],
   "source": [
    "## try these\n",
    "df2.loc[['a', 'b']]"
   ]
  },
  {
   "cell_type": "markdown",
   "id": "a0157910-86b5-4f09-8d89-f7086253868e",
   "metadata": {},
   "source": [
    "## Selecting Columns"
   ]
  },
  {
   "cell_type": "code",
   "execution_count": null,
   "id": "33ce8a31-c61f-40ba-b8a8-76cd53ea6abe",
   "metadata": {},
   "outputs": [],
   "source": [
    "# select single columns\n",
    "df['col-0']"
   ]
  },
  {
   "cell_type": "code",
   "execution_count": null,
   "id": "9d4d01cd-3e28-44ca-a5b3-581bc40f6767",
   "metadata": {},
   "outputs": [],
   "source": [
    "# select multiple columns\n",
    "df [['col-0', 'col-1']] "
   ]
  },
  {
   "cell_type": "markdown",
   "id": "f6bd580d-9cba-44f5-aaa6-290970b57c2c",
   "metadata": {},
   "source": [
    "## Combine - Select specific rows and column"
   ]
  },
  {
   "cell_type": "code",
   "execution_count": null,
   "id": "8f9619cf-198d-4555-a287-cabca51b2c1f",
   "metadata": {},
   "outputs": [],
   "source": [
    "df.iloc[1]['col-1']"
   ]
  },
  {
   "cell_type": "code",
   "execution_count": null,
   "id": "33bb980d-b4d0-48be-b083-a62a40e3fd5f",
   "metadata": {},
   "outputs": [],
   "source": [
    "df.iloc[0:2]['col-1']"
   ]
  },
  {
   "cell_type": "code",
   "execution_count": null,
   "id": "585771a4-ee68-4afb-ad59-10b93a67ebea",
   "metadata": {},
   "outputs": [],
   "source": [
    "df.iloc[0:2][['col-1', 'col-2']]"
   ]
  },
  {
   "cell_type": "code",
   "execution_count": null,
   "id": "e5cb2cac-fee6-4cdc-9064-360b7968b7d2",
   "metadata": {},
   "outputs": [],
   "source": [
    "## TODO, go ahead try a few formulas"
   ]
  },
  {
   "cell_type": "markdown",
   "id": "014f8a80-0023-492d-bbe7-9d61b8c4fc19",
   "metadata": {},
   "source": [
    "## Setting Custom Index\n",
    "\n",
    "By default Pandas has integer indexes, starting at 0.  This is fine for most usecases. Sometimes we may want to set a custom index.  Here is an example"
   ]
  },
  {
   "cell_type": "code",
   "execution_count": 2,
   "id": "7d85639f-615e-4ca4-b8cc-2e83093dba29",
   "metadata": {},
   "outputs": [
    {
     "data": {
      "text/html": [
       "<div>\n",
       "<style scoped>\n",
       "    .dataframe tbody tr th:only-of-type {\n",
       "        vertical-align: middle;\n",
       "    }\n",
       "\n",
       "    .dataframe tbody tr th {\n",
       "        vertical-align: top;\n",
       "    }\n",
       "\n",
       "    .dataframe thead th {\n",
       "        text-align: right;\n",
       "    }\n",
       "</style>\n",
       "<table border=\"1\" class=\"dataframe\">\n",
       "  <thead>\n",
       "    <tr style=\"text-align: right;\">\n",
       "      <th></th>\n",
       "      <th>id</th>\n",
       "      <th>name</th>\n",
       "      <th>phone</th>\n",
       "    </tr>\n",
       "  </thead>\n",
       "  <tbody>\n",
       "    <tr>\n",
       "      <th>0</th>\n",
       "      <td>101</td>\n",
       "      <td>John</td>\n",
       "      <td>1111</td>\n",
       "    </tr>\n",
       "    <tr>\n",
       "      <th>1</th>\n",
       "      <td>102</td>\n",
       "      <td>Tom</td>\n",
       "      <td>2222</td>\n",
       "    </tr>\n",
       "    <tr>\n",
       "      <th>2</th>\n",
       "      <td>103</td>\n",
       "      <td>Jane</td>\n",
       "      <td>3333</td>\n",
       "    </tr>\n",
       "    <tr>\n",
       "      <th>3</th>\n",
       "      <td>104</td>\n",
       "      <td>Liz</td>\n",
       "      <td>4444</td>\n",
       "    </tr>\n",
       "  </tbody>\n",
       "</table>\n",
       "</div>"
      ],
      "text/plain": [
       "    id  name phone\n",
       "0  101  John  1111\n",
       "1  102   Tom  2222\n",
       "2  103  Jane  3333\n",
       "3  104   Liz  4444"
      ]
     },
     "execution_count": 2,
     "metadata": {},
     "output_type": "execute_result"
    }
   ],
   "source": [
    "import pandas as pd\n",
    "\n",
    "customers = pd.DataFrame({'id' : ['101', '102', '103', '104'],\n",
    "                   'name' : ['John', 'Tom', 'Jane', 'Liz'],\n",
    "                   'phone' : ['1111', '2222', '3333', '4444']\n",
    "                  })\n",
    "\n",
    "customers"
   ]
  },
  {
   "cell_type": "code",
   "execution_count": 4,
   "id": "f78e85d5-40f7-48b2-94d8-de9732394fa4",
   "metadata": {},
   "outputs": [
    {
     "data": {
      "text/plain": [
       "id        103\n",
       "name     Jane\n",
       "phone    3333\n",
       "Name: 2, dtype: object"
      ]
     },
     "execution_count": 4,
     "metadata": {},
     "output_type": "execute_result"
    }
   ],
   "source": [
    "# As we can see the index is the default index.\n",
    "\n",
    "customers.iloc[2]"
   ]
  },
  {
   "cell_type": "code",
   "execution_count": 6,
   "id": "9daab5c8-f23c-47e8-8bd3-9bb2f6ecacd0",
   "metadata": {},
   "outputs": [
    {
     "data": {
      "text/html": [
       "<div>\n",
       "<style scoped>\n",
       "    .dataframe tbody tr th:only-of-type {\n",
       "        vertical-align: middle;\n",
       "    }\n",
       "\n",
       "    .dataframe tbody tr th {\n",
       "        vertical-align: top;\n",
       "    }\n",
       "\n",
       "    .dataframe thead th {\n",
       "        text-align: right;\n",
       "    }\n",
       "</style>\n",
       "<table border=\"1\" class=\"dataframe\">\n",
       "  <thead>\n",
       "    <tr style=\"text-align: right;\">\n",
       "      <th></th>\n",
       "      <th>name</th>\n",
       "      <th>phone</th>\n",
       "    </tr>\n",
       "    <tr>\n",
       "      <th>id</th>\n",
       "      <th></th>\n",
       "      <th></th>\n",
       "    </tr>\n",
       "  </thead>\n",
       "  <tbody>\n",
       "    <tr>\n",
       "      <th>101</th>\n",
       "      <td>John</td>\n",
       "      <td>1111</td>\n",
       "    </tr>\n",
       "    <tr>\n",
       "      <th>102</th>\n",
       "      <td>Tom</td>\n",
       "      <td>2222</td>\n",
       "    </tr>\n",
       "    <tr>\n",
       "      <th>103</th>\n",
       "      <td>Jane</td>\n",
       "      <td>3333</td>\n",
       "    </tr>\n",
       "    <tr>\n",
       "      <th>104</th>\n",
       "      <td>Liz</td>\n",
       "      <td>4444</td>\n",
       "    </tr>\n",
       "  </tbody>\n",
       "</table>\n",
       "</div>"
      ],
      "text/plain": [
       "     name phone\n",
       "id             \n",
       "101  John  1111\n",
       "102   Tom  2222\n",
       "103  Jane  3333\n",
       "104   Liz  4444"
      ]
     },
     "execution_count": 6,
     "metadata": {},
     "output_type": "execute_result"
    }
   ],
   "source": [
    "## Let's set the customer_id as index\n",
    "\n",
    "customers2 = customers.set_index('id')\n",
    "customers2"
   ]
  },
  {
   "cell_type": "code",
   "execution_count": 7,
   "id": "cc5022b6-9bb7-4267-b2d5-cfd017712961",
   "metadata": {},
   "outputs": [
    {
     "data": {
      "text/plain": [
       "name     Jane\n",
       "phone    3333\n",
       "Name: 103, dtype: object"
      ]
     },
     "execution_count": 7,
     "metadata": {},
     "output_type": "execute_result"
    }
   ],
   "source": [
    "## now access using customer_id\n",
    "customers2.loc['103']"
   ]
  },
  {
   "cell_type": "code",
   "execution_count": null,
   "id": "6470f9b4-6c98-4cbf-9af5-e97b36b30a5b",
   "metadata": {},
   "outputs": [],
   "source": [
    "## Remember,pandas is creating a copy here, \n",
    "\n",
    "## the original customers still have the original structure\n",
    "customers"
   ]
  },
  {
   "cell_type": "code",
   "execution_count": null,
   "id": "03009036-57b8-453b-befa-a43dbb8d8c23",
   "metadata": {},
   "outputs": [],
   "source": [
    "## We can set index 'inplace' to avoid copying\n",
    "customers.set_index( 'id',  inplace=True)"
   ]
  },
  {
   "cell_type": "code",
   "execution_count": null,
   "id": "6c2aded2-92d4-404d-a1d8-c7e7eb62e119",
   "metadata": {},
   "outputs": [],
   "source": [
    "# original customers changed!\n",
    "customers"
   ]
  }
 ],
 "metadata": {
  "kernelspec": {
   "display_name": "Python 3 (ipykernel)",
   "language": "python",
   "name": "python3"
  },
  "language_info": {
   "codemirror_mode": {
    "name": "ipython",
    "version": 3
   },
   "file_extension": ".py",
   "mimetype": "text/x-python",
   "name": "python",
   "nbconvert_exporter": "python",
   "pygments_lexer": "ipython3",
   "version": "3.9.16"
  }
 },
 "nbformat": 4,
 "nbformat_minor": 5
}
