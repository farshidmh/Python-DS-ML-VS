{
 "cells": [
  {
   "cell_type": "markdown",
   "id": "35da07da-7b4e-459d-bf87-eb2dfd7c00b3",
   "metadata": {},
   "source": [
    "## DF Group By"
   ]
  },
  {
   "cell_type": "markdown",
   "id": "8f4b5c8e-efa0-4be7-afe1-11a61153d89f",
   "metadata": {},
   "source": [
    "## GroupBy-1: Simple Example"
   ]
  },
  {
   "cell_type": "code",
   "execution_count": 8,
   "id": "6b2829cc-e735-4670-98b3-8ac5d1c05f84",
   "metadata": {},
   "outputs": [],
   "source": [
    "import numpy as np\n",
    "import pandas as pd\n",
    "\n",
    "pd.options.display.float_format = '{:,.2f}'.format"
   ]
  },
  {
   "cell_type": "code",
   "execution_count": 3,
   "id": "57886621-ee58-493c-b136-cf5527ae62e4",
   "metadata": {},
   "outputs": [
    {
     "data": {
      "text/html": [
       "<div>\n",
       "<style scoped>\n",
       "    .dataframe tbody tr th:only-of-type {\n",
       "        vertical-align: middle;\n",
       "    }\n",
       "\n",
       "    .dataframe tbody tr th {\n",
       "        vertical-align: top;\n",
       "    }\n",
       "\n",
       "    .dataframe thead th {\n",
       "        text-align: right;\n",
       "    }\n",
       "</style>\n",
       "<table border=\"1\" class=\"dataframe\">\n",
       "  <thead>\n",
       "    <tr style=\"text-align: right;\">\n",
       "      <th></th>\n",
       "      <th>ID</th>\n",
       "      <th>Date</th>\n",
       "      <th>SalePrice</th>\n",
       "      <th>PropertyID</th>\n",
       "      <th>PropertyType</th>\n",
       "      <th>Bedrooms</th>\n",
       "      <th>Bathrooms</th>\n",
       "      <th>SqFtTotLiving</th>\n",
       "      <th>SqFtLot</th>\n",
       "      <th>YrBuilt</th>\n",
       "      <th>ZipCode</th>\n",
       "    </tr>\n",
       "  </thead>\n",
       "  <tbody>\n",
       "    <tr>\n",
       "      <th>0</th>\n",
       "      <td>1</td>\n",
       "      <td>9/16/14</td>\n",
       "      <td>280000</td>\n",
       "      <td>1000102</td>\n",
       "      <td>Multiplex</td>\n",
       "      <td>6</td>\n",
       "      <td>3.00</td>\n",
       "      <td>2400</td>\n",
       "      <td>9373</td>\n",
       "      <td>1991</td>\n",
       "      <td>98002</td>\n",
       "    </tr>\n",
       "    <tr>\n",
       "      <th>1</th>\n",
       "      <td>2</td>\n",
       "      <td>6/16/06</td>\n",
       "      <td>1000000</td>\n",
       "      <td>1200013</td>\n",
       "      <td>Single Family</td>\n",
       "      <td>4</td>\n",
       "      <td>3.75</td>\n",
       "      <td>3764</td>\n",
       "      <td>20156</td>\n",
       "      <td>2005</td>\n",
       "      <td>98166</td>\n",
       "    </tr>\n",
       "    <tr>\n",
       "      <th>2</th>\n",
       "      <td>3</td>\n",
       "      <td>1/29/07</td>\n",
       "      <td>745000</td>\n",
       "      <td>1200019</td>\n",
       "      <td>Single Family</td>\n",
       "      <td>4</td>\n",
       "      <td>1.75</td>\n",
       "      <td>2060</td>\n",
       "      <td>26036</td>\n",
       "      <td>1947</td>\n",
       "      <td>98166</td>\n",
       "    </tr>\n",
       "    <tr>\n",
       "      <th>3</th>\n",
       "      <td>4</td>\n",
       "      <td>2/25/08</td>\n",
       "      <td>425000</td>\n",
       "      <td>2800016</td>\n",
       "      <td>Single Family</td>\n",
       "      <td>5</td>\n",
       "      <td>3.75</td>\n",
       "      <td>3200</td>\n",
       "      <td>8618</td>\n",
       "      <td>1966</td>\n",
       "      <td>98168</td>\n",
       "    </tr>\n",
       "    <tr>\n",
       "      <th>4</th>\n",
       "      <td>5</td>\n",
       "      <td>3/29/13</td>\n",
       "      <td>240000</td>\n",
       "      <td>2800024</td>\n",
       "      <td>Single Family</td>\n",
       "      <td>4</td>\n",
       "      <td>1.75</td>\n",
       "      <td>1720</td>\n",
       "      <td>8620</td>\n",
       "      <td>1948</td>\n",
       "      <td>98168</td>\n",
       "    </tr>\n",
       "    <tr>\n",
       "      <th>...</th>\n",
       "      <td>...</td>\n",
       "      <td>...</td>\n",
       "      <td>...</td>\n",
       "      <td>...</td>\n",
       "      <td>...</td>\n",
       "      <td>...</td>\n",
       "      <td>...</td>\n",
       "      <td>...</td>\n",
       "      <td>...</td>\n",
       "      <td>...</td>\n",
       "      <td>...</td>\n",
       "    </tr>\n",
       "    <tr>\n",
       "      <th>27058</th>\n",
       "      <td>27059</td>\n",
       "      <td>10/31/12</td>\n",
       "      <td>374000</td>\n",
       "      <td>9895000030</td>\n",
       "      <td>Townhouse</td>\n",
       "      <td>2</td>\n",
       "      <td>1.75</td>\n",
       "      <td>1410</td>\n",
       "      <td>1161</td>\n",
       "      <td>2011</td>\n",
       "      <td>-1</td>\n",
       "    </tr>\n",
       "    <tr>\n",
       "      <th>27059</th>\n",
       "      <td>27060</td>\n",
       "      <td>12/7/12</td>\n",
       "      <td>374000</td>\n",
       "      <td>9895000040</td>\n",
       "      <td>Townhouse</td>\n",
       "      <td>2</td>\n",
       "      <td>1.75</td>\n",
       "      <td>1410</td>\n",
       "      <td>1005</td>\n",
       "      <td>2011</td>\n",
       "      <td>-1</td>\n",
       "    </tr>\n",
       "    <tr>\n",
       "      <th>27060</th>\n",
       "      <td>27061</td>\n",
       "      <td>7/9/12</td>\n",
       "      <td>165000</td>\n",
       "      <td>9899200010</td>\n",
       "      <td>Single Family</td>\n",
       "      <td>4</td>\n",
       "      <td>1.00</td>\n",
       "      <td>1070</td>\n",
       "      <td>11170</td>\n",
       "      <td>1971</td>\n",
       "      <td>98055</td>\n",
       "    </tr>\n",
       "    <tr>\n",
       "      <th>27061</th>\n",
       "      <td>27062</td>\n",
       "      <td>5/26/06</td>\n",
       "      <td>315000</td>\n",
       "      <td>9900000355</td>\n",
       "      <td>Single Family</td>\n",
       "      <td>3</td>\n",
       "      <td>2.00</td>\n",
       "      <td>1345</td>\n",
       "      <td>6223</td>\n",
       "      <td>1939</td>\n",
       "      <td>98166</td>\n",
       "    </tr>\n",
       "    <tr>\n",
       "      <th>27062</th>\n",
       "      <td>27063</td>\n",
       "      <td>1/9/07</td>\n",
       "      <td>465000</td>\n",
       "      <td>9906000035</td>\n",
       "      <td>Single Family</td>\n",
       "      <td>3</td>\n",
       "      <td>1.50</td>\n",
       "      <td>790</td>\n",
       "      <td>4400</td>\n",
       "      <td>1928</td>\n",
       "      <td>98103</td>\n",
       "    </tr>\n",
       "  </tbody>\n",
       "</table>\n",
       "<p>27063 rows × 11 columns</p>\n",
       "</div>"
      ],
      "text/plain": [
       "          ID      Date  SalePrice  PropertyID   PropertyType  Bedrooms  \\\n",
       "0          1   9/16/14     280000     1000102      Multiplex         6   \n",
       "1          2   6/16/06    1000000     1200013  Single Family         4   \n",
       "2          3   1/29/07     745000     1200019  Single Family         4   \n",
       "3          4   2/25/08     425000     2800016  Single Family         5   \n",
       "4          5   3/29/13     240000     2800024  Single Family         4   \n",
       "...      ...       ...        ...         ...            ...       ...   \n",
       "27058  27059  10/31/12     374000  9895000030      Townhouse         2   \n",
       "27059  27060   12/7/12     374000  9895000040      Townhouse         2   \n",
       "27060  27061    7/9/12     165000  9899200010  Single Family         4   \n",
       "27061  27062   5/26/06     315000  9900000355  Single Family         3   \n",
       "27062  27063    1/9/07     465000  9906000035  Single Family         3   \n",
       "\n",
       "       Bathrooms  SqFtTotLiving  SqFtLot  YrBuilt  ZipCode  \n",
       "0           3.00           2400     9373     1991    98002  \n",
       "1           3.75           3764    20156     2005    98166  \n",
       "2           1.75           2060    26036     1947    98166  \n",
       "3           3.75           3200     8618     1966    98168  \n",
       "4           1.75           1720     8620     1948    98168  \n",
       "...          ...            ...      ...      ...      ...  \n",
       "27058       1.75           1410     1161     2011       -1  \n",
       "27059       1.75           1410     1005     2011       -1  \n",
       "27060       1.00           1070    11170     1971    98055  \n",
       "27061       2.00           1345     6223     1939    98166  \n",
       "27062       1.50            790     4400     1928    98103  \n",
       "\n",
       "[27063 rows x 11 columns]"
      ]
     },
     "execution_count": 3,
     "metadata": {},
     "output_type": "execute_result"
    }
   ],
   "source": [
    "data_location = '../data/house-sales-simplified.csv'\n",
    "#data_location = 'https://raw.githubusercontent.com/elephantscale/python-data-analytics/main/data/house-sales-simplified.csv'\n",
    "# data_location = 'https://raw.githubusercontent.com/elephantscale/datasets/master/house-prices/house-sales-simplified.csv'\n",
    "\n",
    "house_sales = pd.read_csv (data_location)\n",
    "house_sales"
   ]
  },
  {
   "cell_type": "markdown",
   "id": "89512dac-6d62-43a6-ba5c-8e9077f623b0",
   "metadata": {},
   "source": [
    "---\n",
    "\n",
    "### Find house sales per bedroom\n",
    "\n",
    "We are going to use `groupby`"
   ]
  },
  {
   "cell_type": "code",
   "execution_count": 10,
   "id": "32eee89d-27d2-4e74-96a3-10198a6ead6f",
   "metadata": {},
   "outputs": [
    {
     "data": {
      "text/plain": [
       "Bedrooms\n",
       "0        12\n",
       "1       164\n",
       "2      3415\n",
       "3     12074\n",
       "4      9190\n",
       "5      1872\n",
       "6       275\n",
       "7        41\n",
       "8        10\n",
       "9         5\n",
       "11        3\n",
       "13        1\n",
       "33        1\n",
       "dtype: int64"
      ]
     },
     "execution_count": 10,
     "metadata": {},
     "output_type": "execute_result"
    }
   ],
   "source": [
    "bedroom_sales = house_sales.groupby(['Bedrooms']).size()\n",
    "bedroom_sales"
   ]
  },
  {
   "cell_type": "markdown",
   "id": "7e44054a-ee59-425d-80ee-4f5b3bb85e67",
   "metadata": {},
   "source": [
    "---\n",
    "\n",
    "Let's sort the output by most sold to least sold.  We can use `sort_values` "
   ]
  },
  {
   "cell_type": "code",
   "execution_count": 11,
   "id": "5c8d5038-c647-40e5-85f0-6b28ba2026ab",
   "metadata": {},
   "outputs": [
    {
     "data": {
      "text/plain": [
       "Bedrooms\n",
       "3     12074\n",
       "4      9190\n",
       "2      3415\n",
       "5      1872\n",
       "6       275\n",
       "1       164\n",
       "7        41\n",
       "0        12\n",
       "8        10\n",
       "9         5\n",
       "11        3\n",
       "13        1\n",
       "33        1\n",
       "dtype: int64"
      ]
     },
     "execution_count": 11,
     "metadata": {},
     "output_type": "execute_result"
    }
   ],
   "source": [
    "bedroom_sales.sort_values(ascending=False) "
   ]
  },
  {
   "cell_type": "markdown",
   "id": "a9c0f1ae-2cd0-4429-8b73-c0b314432074",
   "metadata": {},
   "source": [
    "---\n",
    "\n",
    "### Making sense of the data\n",
    "\n",
    "We have some large houses with 10+ bedrooms :-) "
   ]
  },
  {
   "cell_type": "markdown",
   "id": "b3966ed7-2bac-4b2f-bee6-1e0517dee057",
   "metadata": {},
   "source": [
    "---\n",
    "\n",
    "### Calculate Sales per PropertyType\n",
    "\n",
    "We see houses of type 'Single Family', 'Townhouse' ..etc\n",
    "\n",
    "Calculate sales per type\n"
   ]
  },
  {
   "cell_type": "code",
   "execution_count": null,
   "id": "f59a05cd-3234-412b-8d79-19be7ced165e",
   "metadata": {},
   "outputs": [],
   "source": [
    "## TODO: your code here\n",
    "\n",
    "house_sales.groupby(['???']).size()"
   ]
  },
  {
   "cell_type": "markdown",
   "id": "25119e83-7f74-4036-b0ef-02a3d7a7d78b",
   "metadata": {},
   "source": [
    "---\n",
    "\n",
    "## Group by - Multiple Columns\n",
    "\n",
    "Let's find sales per PropertyType and Bedrooms.  It is very easy"
   ]
  },
  {
   "cell_type": "code",
   "execution_count": 14,
   "id": "bcec0b9c-ced1-4c28-9cbf-400f5b139fbf",
   "metadata": {},
   "outputs": [
    {
     "data": {
      "text/plain": [
       "PropertyType   Bedrooms\n",
       "Multiplex      2             13\n",
       "               3             42\n",
       "               4            120\n",
       "               5             28\n",
       "               6             43\n",
       "               7              8\n",
       "               9              4\n",
       "               13             1\n",
       "Single Family  0              7\n",
       "               1            134\n",
       "               2           2313\n",
       "               3           9916\n",
       "               4           8998\n",
       "               5           1842\n",
       "               6            232\n",
       "               7             33\n",
       "               8             10\n",
       "               11             2\n",
       "               33             1\n",
       "Townhouse      0              5\n",
       "               1             30\n",
       "               2           1089\n",
       "               3           2116\n",
       "               4             72\n",
       "               5              2\n",
       "               9              1\n",
       "               11             1\n",
       "dtype: int64"
      ]
     },
     "execution_count": 14,
     "metadata": {},
     "output_type": "execute_result"
    }
   ],
   "source": [
    "house_sales.groupby(['PropertyType', 'Bedrooms']).size()"
   ]
  },
  {
   "cell_type": "markdown",
   "id": "feb086b5-1a33-4ada-a201-71add64d7d02",
   "metadata": {},
   "source": [
    "---\n",
    "\n",
    "## Filter + Group By\n",
    "\n",
    "Let's kick this up a notch.  Generate a report of 'sales by bedrooms' for houses sold for over a million."
   ]
  },
  {
   "cell_type": "code",
   "execution_count": null,
   "id": "0d4ccdeb-9967-4149-a125-f558a439fcbb",
   "metadata": {},
   "outputs": [],
   "source": [
    "## Step 1 - extract column\n",
    "house_sales['SalePrice']"
   ]
  },
  {
   "cell_type": "code",
   "execution_count": null,
   "id": "462bc577-4c57-4497-b92e-9346b9e19d3e",
   "metadata": {},
   "outputs": [],
   "source": [
    "## Step 2 - add condition\n",
    "house_sales['SalePrice'] > 1000000"
   ]
  },
  {
   "cell_type": "code",
   "execution_count": null,
   "id": "dde072ed-f0e8-4008-bc3f-3bcfa52e26db",
   "metadata": {},
   "outputs": [],
   "source": [
    "## Step 3 - extract rows\n",
    "\n",
    "house_sales [ paste_the_above_condition_here  ]"
   ]
  },
  {
   "cell_type": "code",
   "execution_count": null,
   "id": "9c8d1398-0be8-4e9b-8de2-9f84137fff06",
   "metadata": {},
   "outputs": [],
   "source": [
    "## step 4  - add group by\n",
    "\n",
    "house_sales[house_sales['SalePrice'] > 1000000].groupby (['Bedrooms']).size()"
   ]
  }
 ],
 "metadata": {
  "kernelspec": {
   "display_name": "Python 3 (ipykernel)",
   "language": "python",
   "name": "python3"
  },
  "language_info": {
   "codemirror_mode": {
    "name": "ipython",
    "version": 3
   },
   "file_extension": ".py",
   "mimetype": "text/x-python",
   "name": "python",
   "nbconvert_exporter": "python",
   "pygments_lexer": "ipython3",
   "version": "3.9.16"
  }
 },
 "nbformat": 4,
 "nbformat_minor": 5
}
